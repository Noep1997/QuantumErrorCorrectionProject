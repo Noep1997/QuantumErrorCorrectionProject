{
 "cells": [
  {
   "cell_type": "markdown",
   "metadata": {},
   "source": [
    "# Quantum Error Correction Project\n",
    "## Philippe Noël, Alaisha Sharma, Nicolas Weninger\n",
    "### File #5: QC Architectures and Surface Codes"
   ]
  },
  {
   "attachments": {},
   "cell_type": "markdown",
   "metadata": {},
   "source": [
    "### 1. IBMQ Architectures\n",
    "\n",
    "<img src=\"img/5_qubits_architecture.png\">\n",
    "\n",
    "While we could run the 3 qubit code on the IBMQX5 computer – seeing as it only uses 5 qubits – this architecture would be functionally useless if we wanted to use the code to actually correct for any errors other than a single bit flip or a phase flip on more than one qubit. "
   ]
  },
  {
   "attachments": {},
   "cell_type": "markdown",
   "metadata": {},
   "source": [
    "<img src=\"img/16_qubits_architecture.png\">\n",
    "\n",
    "The 16 qubit architecture allows us to run some more complex correction codes, such as the 9 qubit code. The issue is that foe any given qubit, at most only three others could be coupled to it, and the 9q correction code needs more than three CNOT gates for some qubits. Thus, without performing SWAP gates back and forth, it is hard to map the 9q code to this architecture."
   ]
  },
  {
   "attachments": {},
   "cell_type": "markdown",
   "metadata": {},
   "source": [
    "### 2. Modern Error Correction Schemes\n",
    "The problem with the 3q and 9q schemes is that they all assumed:\n",
    " - Perfect gate fidelity \n",
    " - Specific error-prone channel location \n",
    " - Only X and Z-flip errors\n",
    "In reality, none of the above three are in fact true. Thus, while a useful way to understand the use of anilla qubits for syndrome information and error correction, they are not very useful in practice, and they do not scale well.  \n",
    "\n",
    "One way we have resolved this is through the use of stabiliser codes. Consider: \n",
    "  \n",
    "$\\begin{equation}\n",
    "\\sigma_z|0\\rangle = |0\\rangle\n",
    "\\end{equation}$  \n",
    "  \n",
    "Through very fancy incomprehelsible maths, we can definine multi-qubit states in the same way, by examining some of the group properties of multi-qubit operators. If an error were to occur, we would know that it did and how to correct it.  \n",
    "\n",
    "These stabiliser codes form the basis of what are now called \"Topological error correction codes\". Topological error correction is a complicated area of QEC and fault-tolerance. One example of a topological error correction code is called the surface code. It offers much more flexibility at the architectural level, as it is a stabiliser code generalised over a 2-dimensional qubit lattice where 2-qubit operations cannot be performed across arbitrarily long distances, as illustrated below.\n",
    "\n",
    "<img src=\"img/modern_QEC_architecture.png\">\n",
    "\n",
    "This code is able to exponentially increase the error protection in the computer with only a linear change in qubit use. Detailing exactly how this surface can be used to perform less error-prone computation is very mathematically heavy and well outside of my knowledge.  \n",
    "\n",
    "Simply (and potentially incorrectly) put, the computer performs a CNOT in the binary or hademard basis to detect for X or Z flips respectivally along a row or column, and using a hybrid classical-quantum system, is able to detect the propegation of a chain of errors and correct the data qubits accordingly.  \n",
    "\n",
    "It is thus interesting to note that the newly online (and not accessible to us) IBMQX20 has an architecture that is very much condusive to implementing the surface code.\n",
    "\n",
    "<img src=\"img/20_qubits_architecture.png\">\n",
    "\n",
    "There is still a  disconnect between the abstract framework of quantum coding and error correction schemes and the more physically realistic implementation of error correction for large-scale quantum information processing. While it is unlikely we will achieve levels of gate fidelity as seen on classical hardware in the quantum realm, hopefully with ever-increasing access to appropriatly architectured hardware and better abstraction techniques, we can begin to bridge the disconnect."
   ]
  }
 ],
 "metadata": {
  "kernelspec": {
   "display_name": "Python 3",
   "language": "python",
   "name": "python3"
  },
  "language_info": {
   "codemirror_mode": {
    "name": "ipython",
    "version": 3
   },
   "file_extension": ".py",
   "mimetype": "text/x-python",
   "name": "python",
   "nbconvert_exporter": "python",
   "pygments_lexer": "ipython3",
   "version": "3.6.1"
  }
 },
 "nbformat": 4,
 "nbformat_minor": 2
}
