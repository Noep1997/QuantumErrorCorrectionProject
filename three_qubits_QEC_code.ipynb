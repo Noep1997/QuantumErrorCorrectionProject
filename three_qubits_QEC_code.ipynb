{
 "cells": [
  {
   "cell_type": "markdown",
   "metadata": {},
   "source": [
    "# Quantum Error Correction Project\n",
    "## Philippe Noël, Alaisha Sharma, Nicolas Weninger\n",
    "### File #1: 3-qubits code"
   ]
  },
  {
   "cell_type": "code",
   "execution_count": 1,
   "metadata": {},
   "outputs": [],
   "source": [
    "import os\n",
    "import sys\n",
    "\n",
    "from qutip import *\n",
    "\n",
    "from qiskit import QuantumProgram\n",
    "import Qconfig\n",
    "from qiskit.tools.visualization import plot_histogram, plot_state\n",
    "from qiskit.backends import local_backends, remote_backends\n",
    "from qiskit import QuantumCircuit, ClassicalRegister, QuantumRegister\n",
    "\n",
    "assert sys.version_info >= (3,5), \"Only Python 3.5 or greater supported.\"\n",
    "\n",
    "import numpy as np\n",
    "import matplotlib.pyplot as plt\n",
    "from IPython.display import display, HTML, Image"
   ]
  },
  {
   "cell_type": "markdown",
   "metadata": {},
   "source": [
    "#### Overview of the 3-qubit code (for bit flips)\n",
    "Source: https://arxiv.org/pdf/0905.2794.pdf"
   ]
  },
  {
   "cell_type": "markdown",
   "metadata": {},
   "source": [
    "<img src=\"img/3_qubits_circuit.png\">"
   ]
  },
  {
   "cell_type": "markdown",
   "metadata": {},
   "source": [
    "### 1. Run the theoretical simulation with a local quantum simulator as a control experiment."
   ]
  },
  {
   "cell_type": "code",
   "execution_count": 2,
   "metadata": {},
   "outputs": [
    {
     "name": "stdout",
     "output_type": "stream",
     "text": [
      "Measurement after simulation gate without errors (control):\n"
     ]
    },
    {
     "data": {
      "image/png": "[encoded data removed]",
      "text/plain": [
       "<matplotlib.figure.Figure at 0x1182ebb38>"
      ]
     },
     "metadata": {},
     "output_type": "display_data"
    }
   ],
   "source": [
    "# Run circuit without any errors on local quantum simulator\n",
    "qp1 = QuantumProgram()\n",
    "\n",
    "# 3 qubits plus 2 ancillary qubits\n",
    "n = 5\n",
    "\n",
    "# Quantum register\n",
    "q = qp1.create_quantum_register(\"q\", n)\n",
    "# Classical register\n",
    "c = qp1.create_classical_register(\"c\", n) \n",
    "\n",
    "# SimControl3 circuit\n",
    "sim_control3 = qp1.create_circuit(\"SimControl3\", [q], [c])\n",
    "\n",
    "# Add gates\n",
    "# Encode state\n",
    "sim_control3.cx(q[0], q[1]) \n",
    "sim_control3.cx(q[1], q[2]) \n",
    "# Error detection\n",
    "sim_control3.cx(q[0], q[3]) \n",
    "sim_control3.cx(q[1], q[3]) \n",
    "sim_control3.cx(q[0], q[4]) \n",
    "sim_control3.cx(q[2], q[4]) \n",
    "\n",
    "# Add measurement operation\n",
    "sim_control3.measure(q[3], c[3])\n",
    "sim_control3.measure(q[4], c[4])\n",
    "\n",
    "# Execute circuit\n",
    "results = qp1.execute(\"SimControl3\")\n",
    "\n",
    "# Plot measurement results \n",
    "print(\"Measurement after simulation gate without errors (control):\")\n",
    "plot_histogram(results.get_counts(\"SimControl3\"))"
   ]
  },
  {
   "cell_type": "markdown",
   "metadata": {},
   "source": [
    "### 2a. Run the theoretical simulation with a local quantum simulator and introduce a single bit flip error."
   ]
  },
  {
   "cell_type": "code",
   "execution_count": 3,
   "metadata": {},
   "outputs": [
    {
     "name": "stdout",
     "output_type": "stream",
     "text": [
      "Measurement after gate detecting bit flip error on qubit 0 :\n"
     ]
    },
    {
     "data": {
      "image/png": "[encoded data removed]",
      "text/plain": [
       "<matplotlib.figure.Figure at 0x118305a90>"
      ]
     },
     "metadata": {},
     "output_type": "display_data"
    },
    {
     "name": "stdout",
     "output_type": "stream",
     "text": [
      "Measurement after gate detecting bit flip error on qubit 1 :\n"
     ]
    },
    {
     "data": {
      "image/png": "[encoded data removed]",
      "text/plain": [
       "<matplotlib.figure.Figure at 0x11842d2e8>"
      ]
     },
     "metadata": {},
     "output_type": "display_data"
    },
    {
     "name": "stdout",
     "output_type": "stream",
     "text": [
      "Measurement after gate detecting bit flip error on qubit 2 :\n"
     ]
    },
    {
     "data": {
      "image/png": "[encoded data removed]",
      "text/plain": [
       "<matplotlib.figure.Figure at 0x11842d940>"
      ]
     },
     "metadata": {},
     "output_type": "display_data"
    }
   ],
   "source": [
    "# 3 qubits plus 2 ancillary qubits\n",
    "n = 5\n",
    "\n",
    "for val in [0, 1, 2]:\n",
    "    # Run circuit to detect single bit flip error on quantum simulator\n",
    "    qp2eb = QuantumProgram()\n",
    "    \n",
    "    # Quantum register\n",
    "    q = qp2eb.create_quantum_register(\"q\", n)\n",
    "    # Classical register\n",
    "    c = qp2eb.create_classical_register(\"c\", n) \n",
    "\n",
    "    # SimErrorBit3 circuit\n",
    "    sim_err_bit3 = qp2eb.create_circuit(\"SimErrorBit3\", [q], [c])\n",
    "\n",
    "    # ADD GATES\n",
    "    # Encode state\n",
    "    sim_err_bit3.cx(q[0], q[1]) \n",
    "    sim_err_bit3.cx(q[1], q[2]) \n",
    "    # Introduce bit flip error\n",
    "    sim_err_bit3.x(q[val])\n",
    "    # Error detection\n",
    "    sim_err_bit3.cx(q[0], q[3]) \n",
    "    sim_err_bit3.cx(q[1], q[3]) \n",
    "    sim_err_bit3.cx(q[0], q[4]) \n",
    "    sim_err_bit3.cx(q[2], q[4]) \n",
    "\n",
    "    # Add measurement operation\n",
    "    sim_err_bit3.measure(q[3], c[3])\n",
    "    sim_err_bit3.measure(q[4], c[4])\n",
    "\n",
    "    # Execute circuit\n",
    "    results = qp2eb.execute(\"SimErrorBit3\")\n",
    "\n",
    "    # Plot measurement results \n",
    "    print(\"Measurement after gate detecting bit flip error on qubit\", val, \":\")\n",
    "    plot_histogram(results.get_counts(\"SimErrorBit3\"))"
   ]
  },
  {
   "cell_type": "markdown",
   "metadata": {},
   "source": [
    "### 2b. Run the theoretical simulation with a local quantum simulator and correct a single bit flip error."
   ]
  },
  {
   "cell_type": "code",
   "execution_count": 4,
   "metadata": {},
   "outputs": [
    {
     "name": "stdout",
     "output_type": "stream",
     "text": [
      "Measurement after gate correcting bit flip error on qubit 0 :\n"
     ]
    },
    {
     "data": {
      "image/png": "[encoded data removed]",
      "text/plain": [
       "<matplotlib.figure.Figure at 0x1185d7eb8>"
      ]
     },
     "metadata": {},
     "output_type": "display_data"
    },
    {
     "name": "stdout",
     "output_type": "stream",
     "text": [
      "Measurement after gate correcting bit flip error on qubit 1 :\n"
     ]
    },
    {
     "data": {
      "image/png": "[encoded data removed]",
      "text/plain": [
       "<matplotlib.figure.Figure at 0x1185d7ac8>"
      ]
     },
     "metadata": {},
     "output_type": "display_data"
    },
    {
     "name": "stdout",
     "output_type": "stream",
     "text": [
      "Measurement after gate correcting bit flip error on qubit 2 :\n"
     ]
    },
    {
     "data": {
      "image/png": "[encoded data removed]",
      "text/plain": [
       "<matplotlib.figure.Figure at 0x118543a20>"
      ]
     },
     "metadata": {},
     "output_type": "display_data"
    }
   ],
   "source": [
    "# 3 qubits plus 2 ancillary qubits\n",
    "n = 5\n",
    "\n",
    "for val in [0, 1, 2]:\n",
    "    # Run circuit to correct single bit flip error on quantum simulator\n",
    "    qp2cb = QuantumProgram()\n",
    "    \n",
    "    # Quantum register\n",
    "    q = qp2cb.create_quantum_register(\"q\", n)\n",
    "    # Classical register\n",
    "    c = qp2cb.create_classical_register(\"c\", n) \n",
    "    \n",
    "    # SimCorrectBit3 circuit\n",
    "    sim_cor_bit3 = qp2cb.create_circuit(\"SimCorrectBit3\", [q], [c])\n",
    "\n",
    "    # ADD GATES\n",
    "    # Encode state\n",
    "    sim_cor_bit3.cx(q[0], q[1]) \n",
    "    sim_cor_bit3.cx(q[1], q[2]) \n",
    "    # Introduce bit flip error\n",
    "    sim_cor_bit3.x(q[val])\n",
    "    # Error detection\n",
    "    sim_cor_bit3.cx(q[0], q[3]) \n",
    "    sim_cor_bit3.cx(q[1], q[3]) \n",
    "    sim_cor_bit3.cx(q[0], q[4]) \n",
    "    sim_cor_bit3.cx(q[2], q[4]) \n",
    "    # Error correction\n",
    "    sim_cor_bit3.ccx(q[3], q[4], q[0])\n",
    "    sim_cor_bit3.ccx(q[3], q[4], q[1])\n",
    "    sim_cor_bit3.ccx(q[3], q[4], q[2])\n",
    "    sim_cor_bit3.cx(q[3], q[1]) \n",
    "    sim_cor_bit3.cx(q[4], q[2]) \n",
    "    \n",
    "    # Add measurement operation\n",
    "    sim_cor_bit3.measure(q[0], c[0])\n",
    "    sim_cor_bit3.measure(q[1], c[1])\n",
    "    sim_cor_bit3.measure(q[2], c[2])\n",
    "    sim_cor_bit3.measure(q[3], c[3])\n",
    "    sim_cor_bit3.measure(q[4], c[4])\n",
    "\n",
    "    # Execute circuit\n",
    "    results = qp2cb.execute(\"SimCorrectBit3\")\n",
    "\n",
    "    # Plot measurement results \n",
    "    print(\"Measurement after gate correcting bit flip error on qubit\", val, \":\")\n",
    "    plot_histogram(results.get_counts(\"SimCorrectBit3\"))"
   ]
  },
  {
   "cell_type": "markdown",
   "metadata": {},
   "source": [
    "#### Overview of the 3-qubit code (for phase flips)\n",
    "Source: https://arxiv.org/pdf/0905.2794.pdf"
   ]
  },
  {
   "cell_type": "markdown",
   "metadata": {},
   "source": [
    "<img src=\"img/3_qubits_decoder.png\">"
   ]
  },
  {
   "cell_type": "markdown",
   "metadata": {},
   "source": [
    "### 2c. Run the theoretical simulation with a local quantum simulator and introduce a single phase flip error."
   ]
  },
  {
   "cell_type": "code",
   "execution_count": 5,
   "metadata": {},
   "outputs": [
    {
     "name": "stdout",
     "output_type": "stream",
     "text": [
      "Measurement after gate detecting phase flip error on qubit 0 :\n"
     ]
    },
    {
     "data": {
      "image/png": "[encoded data removed]",
      "text/plain": [
       "<matplotlib.figure.Figure at 0x1185e55f8>"
      ]
     },
     "metadata": {},
     "output_type": "display_data"
    },
    {
     "name": "stdout",
     "output_type": "stream",
     "text": [
      "Measurement after gate detecting phase flip error on qubit 1 :\n"
     ]
    },
    {
     "data": {
      "image/png": "[encoded data removed]",
      "text/plain": [
       "<matplotlib.figure.Figure at 0x1183902e8>"
      ]
     },
     "metadata": {},
     "output_type": "display_data"
    },
    {
     "name": "stdout",
     "output_type": "stream",
     "text": [
      "Measurement after gate detecting phase flip error on qubit 2 :\n"
     ]
    },
    {
     "data": {
      "image/png": "[encoded data removed]",
      "text/plain": [
       "<matplotlib.figure.Figure at 0x118639908>"
      ]
     },
     "metadata": {},
     "output_type": "display_data"
    }
   ],
   "source": [
    "# 3 qubits plus 2 ancillary qubits\n",
    "n = 5\n",
    "\n",
    "for val in [0, 1, 2]:\n",
    "    # Run circuit to detect single phase flip error on quantum simulator\n",
    "    qp2ep = QuantumProgram()\n",
    "\n",
    "    # Quantum register\n",
    "    q = qp2ep.create_quantum_register(\"q\", n)\n",
    "    # Classical register\n",
    "    c = qp2ep.create_classical_register(\"c\", n) \n",
    "\n",
    "    # SimErrorPhase3 circuit\n",
    "    sim_err_phase3 = qp2ep.create_circuit(\"SimErrorPhase3\", [q], [c])\n",
    "    \n",
    "    # ADD GATES\n",
    "    # Hadamard basis\n",
    "    sim_err_phase3.h(q[0])\n",
    "    # Encode state\n",
    "    sim_err_phase3.cx(q[0], q[1]) \n",
    "    sim_err_phase3.cx(q[1], q[2])\n",
    "\n",
    "    # Introduce phase flip error\n",
    "    sim_err_phase3.x(q[val]) # X-flip in H basis is Z-flip in binary basis\n",
    "\n",
    "    # Error detection\n",
    "    sim_err_phase3.cx(q[0], q[3]) \n",
    "    sim_err_phase3.cx(q[1], q[3]) \n",
    "    sim_err_phase3.cx(q[0], q[4]) \n",
    "    sim_err_phase3.cx(q[2], q[4]) \n",
    "\n",
    "    # Add measurement operation\n",
    "    sim_err_phase3.measure(q[3], c[3])\n",
    "    sim_err_phase3.measure(q[4], c[4])\n",
    "\n",
    "    # Execute circuit\n",
    "    results = qp2ep.execute(\"SimErrorPhase3\")\n",
    "\n",
    "    # Plot measurement results \n",
    "    print(\"Measurement after gate detecting phase flip error on qubit\", val, \":\")\n",
    "    plot_histogram(results.get_counts(\"SimErrorPhase3\"))"
   ]
  },
  {
   "cell_type": "markdown",
   "metadata": {},
   "source": [
    "### 2d. Run the theoretical simulation with a local quantum simulator and correct a single phase flip error."
   ]
  },
  {
   "cell_type": "code",
   "execution_count": 6,
   "metadata": {},
   "outputs": [
    {
     "name": "stdout",
     "output_type": "stream",
     "text": [
      "Measurement after gate correcting phase flip error on qubit 0 :\n"
     ]
    },
    {
     "data": {
      "image/png": "[encoded data removed]",
      "text/plain": [
       "<matplotlib.figure.Figure at 0x1187d5908>"
      ]
     },
     "metadata": {},
     "output_type": "display_data"
    },
    {
     "name": "stdout",
     "output_type": "stream",
     "text": [
      "Measurement after gate correcting phase flip error on qubit 1 :\n"
     ]
    },
    {
     "data": {
      "image/png": "[encoded data removed]",
      "text/plain": [
       "<matplotlib.figure.Figure at 0x1187ceeb8>"
      ]
     },
     "metadata": {},
     "output_type": "display_data"
    },
    {
     "name": "stdout",
     "output_type": "stream",
     "text": [
      "Measurement after gate correcting phase flip error on qubit 2 :\n"
     ]
    },
    {
     "data": {
      "image/png": "[encoded data removed]",
      "text/plain": [
       "<matplotlib.figure.Figure at 0x1187d9be0>"
      ]
     },
     "metadata": {},
     "output_type": "display_data"
    }
   ],
   "source": [
    "# 3 qubits plus 2 ancillary qubits\n",
    "n = 5\n",
    "\n",
    "for val in [0, 1, 2]:\n",
    "    # Run circuit to detect single phase flip error on quantum simulator\n",
    "    qp2cp = QuantumProgram()\n",
    "\n",
    "    # Quantum register\n",
    "    q = qp2cp.create_quantum_register(\"q\", n)\n",
    "    # Classical register\n",
    "    c = qp2cp.create_classical_register(\"c\", n) \n",
    "\n",
    "    # SimCorrectPhase3 circuit\n",
    "    sim_cor_phase3 = qp2cp.create_circuit(\"SimCorrectPhase3\", [q], [c])\n",
    "    \n",
    "    ### ADD GATES\n",
    "    \n",
    "    # Encode state\n",
    "    sim_cor_phase3.cx(q[0], q[1]) \n",
    "    sim_cor_phase3.cx(q[1], q[2])\n",
    "\n",
    "    # Introduce phase flip error\n",
    "    sim_cor_phase3.z(q[val]) # X in H basis is Z in binary basis\n",
    "    \n",
    "    # Error detection\n",
    "    sim_cor_phase3.cz(q[0], q[3]) \n",
    "    sim_cor_phase3.cz(q[1], q[3]) \n",
    "    sim_cor_phase3.cz(q[0], q[4]) \n",
    "    sim_cor_phase3.cz(q[2], q[4]) \n",
    "    \n",
    "    # Error correction\n",
    "    sim_cor_phase3.h(q[0])\n",
    "    sim_cor_phase3.ccx(q[3], q[4], q[0])\n",
    "    sim_cor_phase3.h(q[0])\n",
    "    sim_cor_phase3.h(q[1])\n",
    "    sim_cor_phase3.ccx(q[3], q[4], q[1])\n",
    "    sim_cor_phase3.h(q[1])\n",
    "    sim_cor_phase3.h(q[2])\n",
    "    sim_cor_phase3.ccx(q[3], q[4], q[2])\n",
    "    sim_cor_phase3.h(q[2])\n",
    "    sim_cor_phase3.cz(q[3], q[1]) \n",
    "    sim_cor_phase3.cz(q[4], q[2])\n",
    "    \n",
    "    # Add measurement operation\n",
    "    sim_cor_phase3.measure(q[0], c[0])\n",
    "    sim_cor_phase3.measure(q[1], c[1])\n",
    "    sim_cor_phase3.measure(q[2], c[2])\n",
    "    sim_cor_phase3.measure(q[3], c[3])\n",
    "    sim_cor_phase3.measure(q[4], c[4])\n",
    "\n",
    "    # Execute circuit\n",
    "    results = qp2cp.execute(\"SimCorrectPhase3\")\n",
    "\n",
    "    # Plot measurement results \n",
    "    print(\"Measurement after gate correcting phase flip error on qubit\", val, \":\")\n",
    "    plot_histogram(results.get_counts(\"SimCorrectPhase3\"))"
   ]
  },
  {
   "cell_type": "code",
   "execution_count": 7,
   "metadata": {},
   "outputs": [
    {
     "name": "stderr",
     "output_type": "stream",
     "text": [
      "/anaconda/lib/python3.6/site-packages/qiskit/_quantumprogram.py:707: DeprecationWarning: set_api() will be deprecated in upcoming versions (>0.5.0). Using the API object instead is recommended.\n",
      "  \"Using the API object instead is recommended.\", DeprecationWarning)\n"
     ]
    },
    {
     "data": {
      "text/plain": [
       "['local_qasm_simulator',\n",
       " 'local_clifford_simulator',\n",
       " 'local_qiskit_simulator',\n",
       " 'local_sympy_qasm_simulator',\n",
       " 'local_sympy_unitary_simulator',\n",
       " 'local_unitary_simulator']"
      ]
     },
     "metadata": {},
     "output_type": "display_data"
    },
    {
     "data": {
      "text/plain": [
       "['ibmqx_hpc_qasm_simulator',\n",
       " 'ibmqx4',\n",
       " 'ibmqx5',\n",
       " 'ibmqx2',\n",
       " 'ibmqx_qasm_simulator']"
      ]
     },
     "metadata": {},
     "output_type": "display_data"
    }
   ],
   "source": [
    "# initialize API to run on IBMQ\n",
    "qp1.set_api(Qconfig.APItoken, Qconfig.config[\"url\"])\n",
    "display(local_backends())\n",
    "display(remote_backends())"
   ]
  },
  {
   "cell_type": "markdown",
   "metadata": {},
   "source": [
    "### 3. Run the circuit on the IBM Q backend as a control experiment."
   ]
  },
  {
   "cell_type": "code",
   "execution_count": 11,
   "metadata": {},
   "outputs": [
    {
     "data": {
      "text/plain": [
       "{'00000': 26, '00100': 6, '01000': 7, '01100': 11}"
      ]
     },
     "execution_count": 11,
     "metadata": {},
     "output_type": "execute_result"
    }
   ],
   "source": [
    "# Run circuit without any errors on IBMQ backend\n",
    "qp3 = QuantumProgram()\n",
    "\n",
    "# 3 qubits plus 2 ancillary qubits\n",
    "n = 5\n",
    "\n",
    "# Quantum register\n",
    "q = qp3.create_quantum_register(\"q\", n)\n",
    "# Classical register\n",
    "c = qp3.create_classical_register(\"c\", n) \n",
    "\n",
    "# SimControl3 circuit\n",
    "imbq_control3 = qp3.create_circuit(\"IBMQControl3\", [q], [c])\n",
    "\n",
    "# Add gates\n",
    "# Encode state\n",
    "imbq_control3.cx(q[0], q[1]) \n",
    "imbq_control3.cx(q[1], q[2]) \n",
    "# Error detection\n",
    "imbq_control3.cx(q[0], q[3]) \n",
    "imbq_control3.cx(q[1], q[3]) \n",
    "imbq_control3.cx(q[0], q[4]) \n",
    "imbq_control3.cx(q[1], q[4]) \n",
    "\n",
    "# Add measurement operation\n",
    "imbq_control3.measure(q[3], c[3])\n",
    "imbq_control3.measure(q[4], c[4])\n",
    "\n",
    "# Set parameters\n",
    "backend = 'ibmqx4'   \n",
    "circuits = ['IBMQControl3']  \n",
    "shots = 50 # reduced the shots from 1024 to 50 to speed up computations since large system           \n",
    "max_credits = 3          \n",
    "wait = 10   \n",
    "timeout = 24000 \n",
    "results_real = qp3.execute(circuits, backend, shots=shots, max_credits=max_credits, wait=wait, timeout=timeout)\n",
    "results_real.get_counts(\"IBMQControl3\")"
   ]
  },
  {
   "cell_type": "code",
   "execution_count": 13,
   "metadata": {},
   "outputs": [
    {
     "data": {
      "image/png": "[encoded data removed]",
      "text/plain": [
       "<matplotlib.figure.Figure at 0x11a025a20>"
      ]
     },
     "metadata": {},
     "output_type": "display_data"
    }
   ],
   "source": [
    "# plotting the histogram\n",
    "plot_histogram(results_real.get_counts(\"IBMQControl3\"))"
   ]
  },
  {
   "cell_type": "markdown",
   "metadata": {},
   "source": [
    "### 4a. Run the circuit on the IBM Q backend and detect a bit flip error."
   ]
  },
  {
   "cell_type": "code",
   "execution_count": 16,
   "metadata": {},
   "outputs": [
    {
     "name": "stderr",
     "output_type": "stream",
     "text": [
      "WARNING:IBMQuantumExperience.IBMQuantumExperience:Got a 500 code response to https://quantumexperience.ng.bluemix.net/api/Jobs/a3170450e30cb48d0b6bb247f2ea56aa?access_token=BEWa8JlmggYT9vY0UKjPrNbnMKmrcVOIeCcEQKlIyARE8WzuIZRIROUUWpqS6Kjf: 500 Error: Failed to establish a backside connection\n"
     ]
    },
    {
     "ename": "KeyboardInterrupt",
     "evalue": "",
     "output_type": "error",
     "traceback": [
      "\u001b[0;31m---------------------------------------------------------------------------\u001b[0m",
      "\u001b[0;31mKeyboardInterrupt\u001b[0m                         Traceback (most recent call last)",
      "\u001b[0;32m<ipython-input-16-1fbc7e9ad4df>\u001b[0m in \u001b[0;36m<module>\u001b[0;34m()\u001b[0m\n\u001b[1;32m     36\u001b[0m \u001b[0mwait\u001b[0m \u001b[0;34m=\u001b[0m \u001b[0;36m10\u001b[0m\u001b[0;34m\u001b[0m\u001b[0m\n\u001b[1;32m     37\u001b[0m \u001b[0mtimeout\u001b[0m \u001b[0;34m=\u001b[0m \u001b[0;36m24000\u001b[0m\u001b[0;34m\u001b[0m\u001b[0m\n\u001b[0;32m---> 38\u001b[0;31m \u001b[0mresults_real1\u001b[0m \u001b[0;34m=\u001b[0m \u001b[0mqp4eb\u001b[0m\u001b[0;34m.\u001b[0m\u001b[0mexecute\u001b[0m\u001b[0;34m(\u001b[0m\u001b[0mcircuits\u001b[0m\u001b[0;34m,\u001b[0m \u001b[0mbackend\u001b[0m\u001b[0;34m,\u001b[0m \u001b[0mshots\u001b[0m\u001b[0;34m=\u001b[0m\u001b[0mshots\u001b[0m\u001b[0;34m,\u001b[0m \u001b[0mmax_credits\u001b[0m\u001b[0;34m=\u001b[0m\u001b[0mmax_credits\u001b[0m\u001b[0;34m,\u001b[0m \u001b[0mwait\u001b[0m\u001b[0;34m=\u001b[0m\u001b[0mwait\u001b[0m\u001b[0;34m,\u001b[0m \u001b[0mtimeout\u001b[0m\u001b[0;34m=\u001b[0m\u001b[0mtimeout\u001b[0m\u001b[0;34m)\u001b[0m\u001b[0;34m\u001b[0m\u001b[0m\n\u001b[0m\u001b[1;32m     39\u001b[0m \u001b[0mresults_real1\u001b[0m\u001b[0;34m.\u001b[0m\u001b[0mget_counts\u001b[0m\u001b[0;34m(\u001b[0m\u001b[0;34m\"IMBQErrorBit3\"\u001b[0m\u001b[0;34m)\u001b[0m\u001b[0;34m\u001b[0m\u001b[0m\n\u001b[1;32m     40\u001b[0m \u001b[0mplot_histogram\u001b[0m\u001b[0;34m(\u001b[0m\u001b[0mresults_real1\u001b[0m\u001b[0;34m.\u001b[0m\u001b[0mget_counts\u001b[0m\u001b[0;34m(\u001b[0m\u001b[0;34m\"IBMQErrorBit3\"\u001b[0m\u001b[0;34m)\u001b[0m\u001b[0;34m)\u001b[0m\u001b[0;34m\u001b[0m\u001b[0m\n",
      "\u001b[0;32m/anaconda/lib/python3.6/site-packages/qiskit/_quantumprogram.py\u001b[0m in \u001b[0;36mexecute\u001b[0;34m(self, name_of_circuits, backend, config, wait, timeout, basis_gates, coupling_map, initial_layout, shots, max_credits, seed, hpc)\u001b[0m\n\u001b[1;32m   1520\u001b[0m                             \u001b[0mshots\u001b[0m\u001b[0;34m=\u001b[0m\u001b[0mshots\u001b[0m\u001b[0;34m,\u001b[0m \u001b[0mmax_credits\u001b[0m\u001b[0;34m=\u001b[0m\u001b[0mmax_credits\u001b[0m\u001b[0;34m,\u001b[0m \u001b[0mseed\u001b[0m\u001b[0;34m=\u001b[0m\u001b[0mseed\u001b[0m\u001b[0;34m,\u001b[0m\u001b[0;34m\u001b[0m\u001b[0m\n\u001b[1;32m   1521\u001b[0m                             hpc=hpc)\n\u001b[0;32m-> 1522\u001b[0;31m         \u001b[0mresult\u001b[0m \u001b[0;34m=\u001b[0m \u001b[0mself\u001b[0m\u001b[0;34m.\u001b[0m\u001b[0mrun\u001b[0m\u001b[0;34m(\u001b[0m\u001b[0mqobj\u001b[0m\u001b[0;34m,\u001b[0m \u001b[0mwait\u001b[0m\u001b[0;34m=\u001b[0m\u001b[0mwait\u001b[0m\u001b[0;34m,\u001b[0m \u001b[0mtimeout\u001b[0m\u001b[0;34m=\u001b[0m\u001b[0mtimeout\u001b[0m\u001b[0;34m)\u001b[0m\u001b[0;34m\u001b[0m\u001b[0m\n\u001b[0m\u001b[1;32m   1523\u001b[0m         \u001b[0;32mreturn\u001b[0m \u001b[0mresult\u001b[0m\u001b[0;34m\u001b[0m\u001b[0m\n\u001b[1;32m   1524\u001b[0m \u001b[0;34m\u001b[0m\u001b[0m\n",
      "\u001b[0;32m/anaconda/lib/python3.6/site-packages/qiskit/_quantumprogram.py\u001b[0m in \u001b[0;36mrun\u001b[0;34m(self, qobj, wait, timeout)\u001b[0m\n\u001b[1;32m   1347\u001b[0m \u001b[0;34m\u001b[0m\u001b[0m\n\u001b[1;32m   1348\u001b[0m         \u001b[0;31m# Do not set a timeout, as the timeout is being managed by the job\u001b[0m\u001b[0;34m\u001b[0m\u001b[0;34m\u001b[0m\u001b[0m\n\u001b[0;32m-> 1349\u001b[0;31m         \u001b[0mjob_blocker_event\u001b[0m\u001b[0;34m.\u001b[0m\u001b[0mwait\u001b[0m\u001b[0;34m(\u001b[0m\u001b[0;34m)\u001b[0m\u001b[0;34m\u001b[0m\u001b[0m\n\u001b[0m\u001b[1;32m   1350\u001b[0m \u001b[0;34m\u001b[0m\u001b[0m\n\u001b[1;32m   1351\u001b[0m         \u001b[0;32mreturn\u001b[0m \u001b[0mjob_result\u001b[0m\u001b[0;34m\u001b[0m\u001b[0m\n",
      "\u001b[0;32m/anaconda/lib/python3.6/threading.py\u001b[0m in \u001b[0;36mwait\u001b[0;34m(self, timeout)\u001b[0m\n\u001b[1;32m    549\u001b[0m             \u001b[0msignaled\u001b[0m \u001b[0;34m=\u001b[0m \u001b[0mself\u001b[0m\u001b[0;34m.\u001b[0m\u001b[0m_flag\u001b[0m\u001b[0;34m\u001b[0m\u001b[0m\n\u001b[1;32m    550\u001b[0m             \u001b[0;32mif\u001b[0m \u001b[0;32mnot\u001b[0m \u001b[0msignaled\u001b[0m\u001b[0;34m:\u001b[0m\u001b[0;34m\u001b[0m\u001b[0m\n\u001b[0;32m--> 551\u001b[0;31m                 \u001b[0msignaled\u001b[0m \u001b[0;34m=\u001b[0m \u001b[0mself\u001b[0m\u001b[0;34m.\u001b[0m\u001b[0m_cond\u001b[0m\u001b[0;34m.\u001b[0m\u001b[0mwait\u001b[0m\u001b[0;34m(\u001b[0m\u001b[0mtimeout\u001b[0m\u001b[0;34m)\u001b[0m\u001b[0;34m\u001b[0m\u001b[0m\n\u001b[0m\u001b[1;32m    552\u001b[0m             \u001b[0;32mreturn\u001b[0m \u001b[0msignaled\u001b[0m\u001b[0;34m\u001b[0m\u001b[0m\n\u001b[1;32m    553\u001b[0m \u001b[0;34m\u001b[0m\u001b[0m\n",
      "\u001b[0;32m/anaconda/lib/python3.6/threading.py\u001b[0m in \u001b[0;36mwait\u001b[0;34m(self, timeout)\u001b[0m\n\u001b[1;32m    293\u001b[0m         \u001b[0;32mtry\u001b[0m\u001b[0;34m:\u001b[0m    \u001b[0;31m# restore state no matter what (e.g., KeyboardInterrupt)\u001b[0m\u001b[0;34m\u001b[0m\u001b[0m\n\u001b[1;32m    294\u001b[0m             \u001b[0;32mif\u001b[0m \u001b[0mtimeout\u001b[0m \u001b[0;32mis\u001b[0m \u001b[0;32mNone\u001b[0m\u001b[0;34m:\u001b[0m\u001b[0;34m\u001b[0m\u001b[0m\n\u001b[0;32m--> 295\u001b[0;31m                 \u001b[0mwaiter\u001b[0m\u001b[0;34m.\u001b[0m\u001b[0macquire\u001b[0m\u001b[0;34m(\u001b[0m\u001b[0;34m)\u001b[0m\u001b[0;34m\u001b[0m\u001b[0m\n\u001b[0m\u001b[1;32m    296\u001b[0m                 \u001b[0mgotit\u001b[0m \u001b[0;34m=\u001b[0m \u001b[0;32mTrue\u001b[0m\u001b[0;34m\u001b[0m\u001b[0m\n\u001b[1;32m    297\u001b[0m             \u001b[0;32melse\u001b[0m\u001b[0;34m:\u001b[0m\u001b[0;34m\u001b[0m\u001b[0m\n",
      "\u001b[0;31mKeyboardInterrupt\u001b[0m: "
     ]
    }
   ],
   "source": [
    "# Run circuit to detect bit flip error on IBMQ backend\n",
    "qp4eb = QuantumProgram()\n",
    "\n",
    "# 3 qubits plus 2 ancillary qubits\n",
    "n = 5\n",
    "\n",
    "# Quantum register\n",
    "q = qp4eb.create_quantum_register(\"q\", n)\n",
    "# Classical register\n",
    "c = qp4eb.create_classical_register(\"c\", n) \n",
    "\n",
    "# SimControl3 circuit\n",
    "imbq_err_bit3 = qp4eb.create_circuit(\"IMBQErrorBit3\", [q], [c])\n",
    "\n",
    "# ADD GATES\n",
    "# Encode state\n",
    "imbq_err_bit3.cx(q[0], q[1]) \n",
    "imbq_err_bit3.cx(q[1], q[2]) \n",
    "# Introduce bit flip error\n",
    "imbq_err_bit3.x(q[0])\n",
    "# Error detection\n",
    "imbq_err_bit3.cx(q[0], q[3]) \n",
    "imbq_err_bit3.cx(q[1], q[3]) \n",
    "imbq_err_bit3.cx(q[0], q[4]) \n",
    "imbq_err_bit3.cx(q[1], q[4]) \n",
    "\n",
    "# Add measurement operation\n",
    "imbq_err_bit3.measure(q[3], c[3])\n",
    "imbq_err_bit3.measure(q[4], c[4])\n",
    "\n",
    "# Set parameters\n",
    "backend = 'ibmqx4'   \n",
    "circuits = ['IMBQErrorBit3']  \n",
    "shots = 50 # reduced the shots from 1024 to 50 to speed up computations since large system          \n",
    "max_credits = 3          \n",
    "wait = 10   \n",
    "timeout = 24000 \n",
    "results_real1 = qp4eb.execute(circuits, backend, shots=shots, max_credits=max_credits, wait=wait, timeout=timeout)\n",
    "results_real1.get_counts(\"IMBQErrorBit3\")\n",
    "plot_histogram(results_real1.get_counts(\"IBMQErrorBit3\"))"
   ]
  },
  {
   "cell_type": "markdown",
   "metadata": {},
   "source": [
    "### 4b. Run the circuit on the IBM Q backend and detect a phase flip error."
   ]
  },
  {
   "cell_type": "code",
   "execution_count": null,
   "metadata": {},
   "outputs": [],
   "source": [
    "# Run circuit to detect phase flip error on IBMQ backend\n",
    "qp4ep = QuantumProgram()\n",
    "\n",
    "# 3 qubits plus 2 ancillary qubits\n",
    "n = 5\n",
    "\n",
    "# Quantum register\n",
    "q = qp4ep.create_quantum_register(\"q\", n)\n",
    "# Classical register\n",
    "c = qp4ep.create_classical_register(\"c\", n) \n",
    "\n",
    "# IBMQControl4 circuit\n",
    "imbq_err_phase3 = qp4ep.create_circuit(\"IMBQErrorPhase3\", [q], [c])\n",
    "\n",
    "# ADD GATES\n",
    "# Hadamard basis\n",
    "imbq_err_phase3.h(q[0]) \n",
    "imbq_err_phase3.h(q[1]) \n",
    "imbq_err_phase3.h(q[2]) \n",
    "imbq_err_phase3.h(q[3]) \n",
    "imbq_err_phase3.h(q[4]) \n",
    "# Encode state\n",
    "imbq_err_phase3.cx(q[0], q[1]) \n",
    "imbq_err_phase3.cx(q[1], q[2]) \n",
    "# Introduce bit flip error\n",
    "imbq_err_phase3.z(q[0])\n",
    "# Error detection\n",
    "imbq_err_phase3.cx(q[0], q[3]) \n",
    "imbq_err_phase3.cx(q[1], q[3]) \n",
    "imbq_err_phase3.cx(q[0], q[4]) \n",
    "imbq_err_phase3.cx(q[1], q[4]) \n",
    "# Reverse Hadamard basis\n",
    "imbq_err_phase3.h(q[0]) \n",
    "imbq_err_phase3.h(q[1]) \n",
    "imbq_err_phase3.h(q[2]) \n",
    "imbq_err_phase3.h(q[3]) \n",
    "imbq_err_phase3.h(q[4]) \n",
    "\n",
    "# Add measurement operation\n",
    "imbq_err_phase3.measure(q[3], c[3])\n",
    "imbq_err_phase3.measure(q[4], c[4])\n",
    "\n",
    "# Set parameters\n",
    "backend = 'ibmqx4'   \n",
    "circuits = ['IMBQErrorPhase3']  \n",
    "shots = 50 # reduced the shots from 1024 to 50 to speed up computations since large system           \n",
    "max_credits = 3          \n",
    "wait = 10   \n",
    "timeout = 24000 \n",
    "results_real2 = qp4ep.execute(circuits, backend, shots=shots, max_credits=max_credits, wait=wait, timeout=timeout)\n",
    "results_real2.get_counts(\"IBMQErrorPhase3\")\n",
    "plot_histogram(results_real2.get_counts(\"IBMQErrorPhase3\"))"
   ]
  }
 ],
 "metadata": {
  "kernelspec": {
   "display_name": "Python 3",
   "language": "python",
   "name": "python3"
  },
  "language_info": {
   "codemirror_mode": {
    "name": "ipython",
    "version": 3
   },
   "file_extension": ".py",
   "mimetype": "text/x-python",
   "name": "python",
   "nbconvert_exporter": "python",
   "pygments_lexer": "ipython3",
   "version": "3.6.1"
  }
 },
 "nbformat": 4,
 "nbformat_minor": 2
}
