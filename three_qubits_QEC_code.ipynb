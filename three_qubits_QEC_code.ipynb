{
 "cells": [
  {
   "cell_type": "markdown",
   "metadata": {},
   "source": [
    "# Quantum Error Correction Project\n",
    "## Philippe Noël, Alaisha Sharma, Nicolas Weninger\n",
    "## 1. 3-qubit scheme"
   ]
  },
  {
   "cell_type": "code",
   "execution_count": 83,
   "metadata": {
    "collapsed": true
   },
   "outputs": [],
   "source": [
    "import os\n",
    "import sys\n",
    "\n",
    "from qutip import *\n",
    "\n",
    "from qiskit import QuantumProgram\n",
    "import Qconfig\n",
    "from qiskit.tools.visualization import plot_histogram, plot_state\n",
    "from qiskit.backends import local_backends, remote_backends\n",
    "from qiskit import QuantumCircuit, ClassicalRegister, QuantumRegister\n",
    "\n",
    "assert sys.version_info >= (3,5), \"Only Python 3.5 or greater supported.\"\n",
    "\n",
    "import numpy as np\n",
    "import matplotlib.pyplot as plt\n",
    "from IPython.display import display, HTML, Image"
   ]
  },
  {
   "cell_type": "markdown",
   "metadata": {},
   "source": [
    "## Simulation Control"
   ]
  },
  {
   "cell_type": "code",
   "execution_count": 84,
   "metadata": {},
   "outputs": [
    {
     "name": "stdout",
     "output_type": "stream",
     "text": [
      "Measurement after simulation gate without errors (control):\n"
     ]
    },
    {
     "data": {
      "image/png": "[encoded data removed]",
      "text/plain": [
       "<matplotlib.figure.Figure at 0x113c91400>"
      ]
     },
     "metadata": {},
     "output_type": "display_data"
    }
   ],
   "source": [
    "# Run circuit without any errors on local quantum simulator\n",
    "qp1 = QuantumProgram()\n",
    "\n",
    "# 3 qubits plus 2 ancillary qubits\n",
    "n = 5\n",
    "\n",
    "# Quantum register\n",
    "q = qp1.create_quantum_register(\"q\", n)\n",
    "# Classical register\n",
    "c = qp1.create_classical_register(\"c\", n) \n",
    "\n",
    "# SimControl3 circuit\n",
    "sim_control3 = qp1.create_circuit(\"SimControl3\", [q], [c])\n",
    "\n",
    "# Add gates\n",
    "# Encode state\n",
    "sim_control3.cx(q[0], q[1]) \n",
    "sim_control3.cx(q[1], q[2]) \n",
    "# Error detection\n",
    "sim_control3.cx(q[0], q[3]) \n",
    "sim_control3.cx(q[1], q[3]) \n",
    "sim_control3.cx(q[0], q[4]) \n",
    "sim_control3.cx(q[1], q[4]) \n",
    "\n",
    "# Add measurement operation\n",
    "sim_control3.measure(q[3], c[3])\n",
    "sim_control3.measure(q[4], c[4])\n",
    "\n",
    "# Execute circuit\n",
    "results = qp1.execute(\"SimControl3\")\n",
    "\n",
    "# Plot measurement results \n",
    "print(\"Measurement after simulation gate without errors (control):\")\n",
    "plot_histogram(results.get_counts(\"SimControl3\"))"
   ]
  },
  {
   "cell_type": "markdown",
   "metadata": {},
   "source": [
    "## Simulation Bit Flip Detection"
   ]
  },
  {
   "cell_type": "code",
   "execution_count": 85,
   "metadata": {},
   "outputs": [
    {
     "name": "stdout",
     "output_type": "stream",
     "text": [
      "Measurement after gate detecting bit flip error on qubit 0 :\n"
     ]
    },
    {
     "data": {
      "image/png": "[encoded data removed]",
      "text/plain": [
       "<matplotlib.figure.Figure at 0x1a23391128>"
      ]
     },
     "metadata": {},
     "output_type": "display_data"
    },
    {
     "name": "stdout",
     "output_type": "stream",
     "text": [
      "Measurement after gate detecting bit flip error on qubit 1 :\n"
     ]
    },
    {
     "data": {
      "image/png": "[encoded data removed]",
      "text/plain": [
       "<matplotlib.figure.Figure at 0x11dca5e80>"
      ]
     },
     "metadata": {},
     "output_type": "display_data"
    },
    {
     "name": "stdout",
     "output_type": "stream",
     "text": [
      "Measurement after gate detecting bit flip error on qubit 2 :\n"
     ]
    },
    {
     "data": {
      "image/png": "[encoded data removed]",
      "text/plain": [
       "<matplotlib.figure.Figure at 0x11dd8f5f8>"
      ]
     },
     "metadata": {},
     "output_type": "display_data"
    }
   ],
   "source": [
    "# 3 qubits plus 2 ancillary qubits\n",
    "n = 5\n",
    "\n",
    "for val in [0, 1, 2]:\n",
    "    # Run circuit to detect single bit flip error on quantum simulator\n",
    "    qp2eb = QuantumProgram()\n",
    "    \n",
    "    # Quantum register\n",
    "    q = qp2eb.create_quantum_register(\"q\", n)\n",
    "    # Classical register\n",
    "    c = qp2eb.create_classical_register(\"c\", n) \n",
    "\n",
    "    # SimErrorBit3 circuit\n",
    "    sim_err_bit3 = qp2eb.create_circuit(\"SimErrorBit3\", [q], [c])\n",
    "\n",
    "    # ADD GATES\n",
    "    # Encode state\n",
    "    sim_err_bit3.cx(q[0], q[1]) \n",
    "    sim_err_bit3.cx(q[0], q[2]) \n",
    "    # Introduce bit flip error\n",
    "    sim_err_bit3.x(q[val])\n",
    "    # Error detection\n",
    "    sim_err_bit3.cx(q[0], q[3]) \n",
    "    sim_err_bit3.cx(q[1], q[3]) \n",
    "    sim_err_bit3.cx(q[0], q[4]) \n",
    "    sim_err_bit3.cx(q[2], q[4]) \n",
    "\n",
    "    # Add measurement operation\n",
    "    sim_err_bit3.measure(q[3], c[3])\n",
    "    sim_err_bit3.measure(q[4], c[4])\n",
    "\n",
    "    # Execute circuit\n",
    "    results = qp2eb.execute(\"SimErrorBit3\")\n",
    "\n",
    "    # Plot measurement results \n",
    "    print(\"Measurement after gate detecting bit flip error on qubit\", val, \":\")\n",
    "    plot_histogram(results.get_counts(\"SimErrorBit3\"))"
   ]
  },
  {
   "cell_type": "markdown",
   "metadata": {},
   "source": [
    "## Simulation Bit Flip Correction"
   ]
  },
  {
   "cell_type": "code",
   "execution_count": 86,
   "metadata": {},
   "outputs": [
    {
     "name": "stdout",
     "output_type": "stream",
     "text": [
      "Measurement after gate correcting bit flip error on qubit 0 :\n"
     ]
    },
    {
     "data": {
      "image/png": "[encoded data removed]",
      "text/plain": [
       "<matplotlib.figure.Figure at 0x11dd0a1d0>"
      ]
     },
     "metadata": {},
     "output_type": "display_data"
    },
    {
     "name": "stdout",
     "output_type": "stream",
     "text": [
      "Measurement after gate correcting bit flip error on qubit 1 :\n"
     ]
    },
    {
     "data": {
      "image/png": "[encoded data removed]",
      "text/plain": [
       "<matplotlib.figure.Figure at 0x10fcd6630>"
      ]
     },
     "metadata": {},
     "output_type": "display_data"
    },
    {
     "name": "stdout",
     "output_type": "stream",
     "text": [
      "Measurement after gate correcting bit flip error on qubit 2 :\n"
     ]
    },
    {
     "data": {
      "image/png": "[encoded data removed]",
      "text/plain": [
       "<matplotlib.figure.Figure at 0x1a23643828>"
      ]
     },
     "metadata": {},
     "output_type": "display_data"
    }
   ],
   "source": [
    "# 3 qubits plus 2 ancillary qubits\n",
    "n = 5\n",
    "\n",
    "for val in [0, 1, 2]:\n",
    "    # Run circuit to correct single bit flip error on quantum simulator\n",
    "    qp2cb = QuantumProgram()\n",
    "    \n",
    "    # Quantum register\n",
    "    q = qp2cb.create_quantum_register(\"q\", n)\n",
    "    # Classical register\n",
    "    c = qp2cb.create_classical_register(\"c\", n) \n",
    "    \n",
    "    # SimCorrectBit3 circuit\n",
    "    sim_cor_bit3 = qp2cb.create_circuit(\"SimCorrectBit3\", [q], [c])\n",
    "\n",
    "    # ADD GATES\n",
    "    # Encode state\n",
    "    sim_cor_bit3.cx(q[0], q[1]) \n",
    "    sim_cor_bit3.cx(q[0], q[2]) \n",
    "    # Introduce bit flip error\n",
    "    sim_cor_bit3.x(q[val])\n",
    "    # Error detection\n",
    "    sim_cor_bit3.cx(q[0], q[3]) \n",
    "    sim_cor_bit3.cx(q[1], q[3]) \n",
    "    sim_cor_bit3.cx(q[0], q[4]) \n",
    "    sim_cor_bit3.cx(q[2], q[4]) \n",
    "    # Error correction\n",
    "    sim_cor_bit3.ccx(q[3], q[4], q[0])\n",
    "    sim_cor_bit3.ccx(q[3], q[4], q[1])\n",
    "    sim_cor_bit3.ccx(q[3], q[4], q[2])\n",
    "    sim_cor_bit3.cx(q[3], q[1]) \n",
    "    sim_cor_bit3.cx(q[4], q[2]) \n",
    "    \n",
    "    # Add measurement operation\n",
    "    sim_cor_bit3.measure(q[0], c[0])\n",
    "    sim_cor_bit3.measure(q[1], c[1])\n",
    "    sim_cor_bit3.measure(q[2], c[2])\n",
    "    sim_cor_bit3.measure(q[3], c[3])\n",
    "    sim_cor_bit3.measure(q[4], c[4])\n",
    "\n",
    "    # Execute circuit\n",
    "    results = qp2cb.execute(\"SimCorrectBit3\")\n",
    "\n",
    "    # Plot measurement results \n",
    "    print(\"Measurement after gate correcting bit flip error on qubit\", val, \":\")\n",
    "    plot_histogram(results.get_counts(\"SimCorrectBit3\"))"
   ]
  },
  {
   "cell_type": "markdown",
   "metadata": {},
   "source": [
    "## Simulation Phase Flip Detection"
   ]
  },
  {
   "cell_type": "code",
   "execution_count": 87,
   "metadata": {},
   "outputs": [
    {
     "name": "stdout",
     "output_type": "stream",
     "text": [
      "Measurement after gate detecting phase flip error on qubit 0 :\n"
     ]
    },
    {
     "data": {
      "image/png": "[encoded data removed]",
      "text/plain": [
       "<matplotlib.figure.Figure at 0x1a2364a898>"
      ]
     },
     "metadata": {},
     "output_type": "display_data"
    },
    {
     "name": "stdout",
     "output_type": "stream",
     "text": [
      "Measurement after gate detecting phase flip error on qubit 1 :\n"
     ]
    },
    {
     "data": {
      "image/png": "[encoded data removed]",
      "text/plain": [
       "<matplotlib.figure.Figure at 0x1a23330320>"
      ]
     },
     "metadata": {},
     "output_type": "display_data"
    },
    {
     "name": "stdout",
     "output_type": "stream",
     "text": [
      "Measurement after gate detecting phase flip error on qubit 2 :\n"
     ]
    },
    {
     "data": {
      "image/png": "[encoded data removed]",
      "text/plain": [
       "<matplotlib.figure.Figure at 0x11dae7588>"
      ]
     },
     "metadata": {},
     "output_type": "display_data"
    }
   ],
   "source": [
    "# 3 qubits plus 2 ancillary qubits\n",
    "n = 5\n",
    "\n",
    "for val in [0, 1, 2]:\n",
    "    # Run circuit to detect single phase flip error on quantum simulator\n",
    "    qp2ep = QuantumProgram()\n",
    "\n",
    "    # Quantum register\n",
    "    q = qp2ep.create_quantum_register(\"q\", n)\n",
    "    # Classical register\n",
    "    c = qp2ep.create_classical_register(\"c\", n) \n",
    "\n",
    "    # SimErrorPhase3 circuit\n",
    "    sim_err_phase3 = qp2ep.create_circuit(\"SimErrorPhase3\", [q], [c])\n",
    "    \n",
    "    # ADD GATES\n",
    "    # Hadamard basis\n",
    "    sim_err_phase3.h(q[0])\n",
    "    # Encode state\n",
    "    sim_err_phase3.cx(q[0], q[1]) \n",
    "    sim_err_phase3.cx(q[0], q[2])\n",
    "    # Hadamard basis\n",
    "    sim_err_phase3.h(q[0])\n",
    "    sim_err_phase3.h(q[1])\n",
    "    sim_err_phase3.h(q[2])\n",
    "    # Introduce phase flip error\n",
    "    sim_err_phase3.z(q[val])\n",
    "    # Hadamard basis\n",
    "    sim_err_phase3.h(q[0])\n",
    "    sim_err_phase3.h(q[1])\n",
    "    sim_err_phase3.h(q[2])\n",
    "    # Error detection\n",
    "    sim_err_phase3.cx(q[0], q[3]) \n",
    "    sim_err_phase3.cx(q[1], q[3]) \n",
    "    sim_err_phase3.cx(q[0], q[4]) \n",
    "    sim_err_phase3.cx(q[2], q[4]) \n",
    "\n",
    "    # Add measurement operation\n",
    "    sim_err_phase3.measure(q[3], c[3])\n",
    "    sim_err_phase3.measure(q[4], c[4])\n",
    "\n",
    "    # Execute circuit\n",
    "    results = qp2ep.execute(\"SimErrorPhase3\")\n",
    "\n",
    "    # Plot measurement results \n",
    "    print(\"Measurement after gate detecting phase flip error on qubit\", val, \":\")\n",
    "    plot_histogram(results.get_counts(\"SimErrorPhase3\"))"
   ]
  },
  {
   "cell_type": "markdown",
   "metadata": {},
   "source": [
    "## Simulation Phase Flip Correction"
   ]
  },
  {
   "cell_type": "code",
   "execution_count": 88,
   "metadata": {},
   "outputs": [
    {
     "name": "stdout",
     "output_type": "stream",
     "text": [
      "Measurement after gate correcting phase flip error on qubit 0 :\n"
     ]
    },
    {
     "data": {
      "image/png": "[encoded data removed]",
      "text/plain": [
       "<matplotlib.figure.Figure at 0x11e25dc50>"
      ]
     },
     "metadata": {},
     "output_type": "display_data"
    },
    {
     "name": "stdout",
     "output_type": "stream",
     "text": [
      "Measurement after gate correcting phase flip error on qubit 1 :\n"
     ]
    },
    {
     "data": {
      "image/png": "[encoded data removed]",
      "text/plain": [
       "<matplotlib.figure.Figure at 0x1a2345f3c8>"
      ]
     },
     "metadata": {},
     "output_type": "display_data"
    },
    {
     "name": "stdout",
     "output_type": "stream",
     "text": [
      "Measurement after gate correcting phase flip error on qubit 2 :\n"
     ]
    },
    {
     "data": {
      "image/png": "[encoded data removed]",
      "text/plain": [
       "<matplotlib.figure.Figure at 0x1a236673c8>"
      ]
     },
     "metadata": {},
     "output_type": "display_data"
    }
   ],
   "source": [
    "# 3 qubits plus 2 ancillary qubits\n",
    "n = 5\n",
    "\n",
    "for val in [0, 1, 2]:\n",
    "    # Run circuit to detect single phase flip error on quantum simulator\n",
    "    qp2cp = QuantumProgram()\n",
    "\n",
    "    # Quantum register\n",
    "    q = qp2cp.create_quantum_register(\"q\", n)\n",
    "    # Classical register\n",
    "    c = qp2cp.create_classical_register(\"c\", n) \n",
    "\n",
    "    # SimCorrectPhase3 circuit\n",
    "    sim_cor_phase3 = qp2cp.create_circuit(\"SimCorrectPhase3\", [q], [c])\n",
    "    \n",
    "    # ADD GATES\n",
    "    # Hadamard basis\n",
    "    sim_cor_phase3.h(q[0])\n",
    "    # Encode state\n",
    "    sim_cor_phase3.cx(q[0], q[1]) \n",
    "    sim_cor_phase3.cx(q[0], q[2])\n",
    "    # Hadamard basis\n",
    "    sim_cor_phase3.h(q[0])\n",
    "    sim_cor_phase3.h(q[1])\n",
    "    sim_cor_phase3.h(q[2])\n",
    "    # Introduce phase flip error\n",
    "    sim_cor_phase3.z(q[val])\n",
    "    # Hadamard basis\n",
    "    sim_cor_phase3.h(q[0])\n",
    "    sim_cor_phase3.h(q[1])\n",
    "    sim_cor_phase3.h(q[2])\n",
    "    # Error detection\n",
    "    sim_cor_phase3.cx(q[0], q[3]) \n",
    "    sim_cor_phase3.cx(q[1], q[3]) \n",
    "    sim_cor_phase3.cx(q[0], q[4]) \n",
    "    sim_cor_phase3.cx(q[2], q[4]) \n",
    "    # Error correction \n",
    "    sim_cor_phase3.ccx(q[3], q[4], q[0])\n",
    "    sim_cor_phase3.ccx(q[3], q[4], q[1])\n",
    "    sim_cor_phase3.ccx(q[3], q[4], q[2])\n",
    "    sim_cor_phase3.cx(q[3], q[1]) \n",
    "    sim_cor_phase3.cx(q[4], q[2])\n",
    "    sim_cor_phase3.z(q[0])\n",
    "    sim_cor_phase3.z(q[1])\n",
    "    sim_cor_phase3.z(q[2])\n",
    "    \n",
    "    # Add measurement operation\n",
    "    sim_cor_phase3.measure(q[0], c[0])\n",
    "    sim_cor_phase3.measure(q[1], c[1])\n",
    "    sim_cor_phase3.measure(q[2], c[2])\n",
    "    sim_cor_phase3.measure(q[3], c[3])\n",
    "    sim_cor_phase3.measure(q[4], c[4])\n",
    "\n",
    "    # Execute circuit\n",
    "    results = qp2cp.execute(\"SimCorrectPhase3\")\n",
    "\n",
    "    # Plot measurement results \n",
    "    print(\"Measurement after gate correcting phase flip error on qubit\", val, \":\")\n",
    "    plot_histogram(results.get_counts(\"SimCorrectPhase3\"))"
   ]
  },
  {
   "cell_type": "code",
   "execution_count": 89,
   "metadata": {},
   "outputs": [
    {
     "name": "stderr",
     "output_type": "stream",
     "text": [
      "/anaconda3/lib/python3.6/site-packages/qiskit/_quantumprogram.py:707: DeprecationWarning: set_api() will be deprecated in upcoming versions (>0.5.0). Using the API object instead is recommended.\n",
      "  \"Using the API object instead is recommended.\", DeprecationWarning)\n"
     ]
    },
    {
     "data": {
      "text/plain": [
       "['local_qasm_simulator',\n",
       " 'local_clifford_simulator',\n",
       " 'local_qiskit_simulator',\n",
       " 'local_sympy_qasm_simulator',\n",
       " 'local_sympy_unitary_simulator',\n",
       " 'local_unitary_simulator']"
      ]
     },
     "metadata": {},
     "output_type": "display_data"
    },
    {
     "data": {
      "text/plain": [
       "['ibmqx_hpc_qasm_simulator',\n",
       " 'ibmqx4',\n",
       " 'ibmqx5',\n",
       " 'ibmqx2',\n",
       " 'ibmqx_qasm_simulator']"
      ]
     },
     "metadata": {},
     "output_type": "display_data"
    }
   ],
   "source": [
    "# initialize API to run on IBMQ\n",
    "qp1.set_api(Qconfig.APItoken, Qconfig.config[\"url\"])\n",
    "display(local_backends())\n",
    "display(remote_backends())"
   ]
  },
  {
   "cell_type": "markdown",
   "metadata": {},
   "source": [
    "## IBMQ Control"
   ]
  },
  {
   "cell_type": "code",
   "execution_count": 91,
   "metadata": {},
   "outputs": [
    {
     "ename": "NameError",
     "evalue": "name 'results_real' is not defined",
     "output_type": "error",
     "traceback": [
      "\u001b[0;31m---------------------------------------------------------------------------\u001b[0m",
      "\u001b[0;31mNameError\u001b[0m                                 Traceback (most recent call last)",
      "\u001b[0;32m<ipython-input-91-942f5155b661>\u001b[0m in \u001b[0;36m<module>\u001b[0;34m()\u001b[0m\n\u001b[1;32m     35\u001b[0m \u001b[0mtimeout\u001b[0m \u001b[0;34m=\u001b[0m \u001b[0;36m240\u001b[0m\u001b[0;34m\u001b[0m\u001b[0m\n\u001b[1;32m     36\u001b[0m \u001b[0mresult_real\u001b[0m \u001b[0;34m=\u001b[0m \u001b[0mqp3\u001b[0m\u001b[0;34m.\u001b[0m\u001b[0mexecute\u001b[0m\u001b[0;34m(\u001b[0m\u001b[0mcircuits\u001b[0m\u001b[0;34m,\u001b[0m \u001b[0mbackend\u001b[0m\u001b[0;34m,\u001b[0m \u001b[0mshots\u001b[0m\u001b[0;34m=\u001b[0m\u001b[0mshots\u001b[0m\u001b[0;34m,\u001b[0m \u001b[0mmax_credits\u001b[0m\u001b[0;34m=\u001b[0m\u001b[0mmax_credits\u001b[0m\u001b[0;34m,\u001b[0m \u001b[0mwait\u001b[0m\u001b[0;34m=\u001b[0m\u001b[0mwait\u001b[0m\u001b[0;34m,\u001b[0m \u001b[0mtimeout\u001b[0m\u001b[0;34m=\u001b[0m\u001b[0mtimeout\u001b[0m\u001b[0;34m)\u001b[0m\u001b[0;34m\u001b[0m\u001b[0m\n\u001b[0;32m---> 37\u001b[0;31m \u001b[0mresults_real\u001b[0m\u001b[0;34m.\u001b[0m\u001b[0mget_counts\u001b[0m\u001b[0;34m(\u001b[0m\u001b[0;34m\"IBMQControl3\"\u001b[0m\u001b[0;34m)\u001b[0m\u001b[0;34m\u001b[0m\u001b[0m\n\u001b[0m",
      "\u001b[0;31mNameError\u001b[0m: name 'results_real' is not defined"
     ]
    }
   ],
   "source": [
    "# Run circuit without any errors on IBMQ backend\n",
    "qp3 = QuantumProgram()\n",
    "\n",
    "# 3 qubits plus 2 ancillary qubits\n",
    "n = 5\n",
    "\n",
    "# Quantum register\n",
    "q = qp3.create_quantum_register(\"q\", n)\n",
    "# Classical register\n",
    "c = qp3.create_classical_register(\"c\", n) \n",
    "\n",
    "# SimControl3 circuit\n",
    "imbq_control3 = qp3.create_circuit(\"IBMQControl3\", [q], [c])\n",
    "\n",
    "# Add gates\n",
    "# Encode state\n",
    "imbq_control3.cx(q[0], q[1]) \n",
    "imbq_control3.cx(q[1], q[2]) \n",
    "# Error detection\n",
    "imbq_control3.cx(q[0], q[3]) \n",
    "imbq_control3.cx(q[1], q[3]) \n",
    "imbq_control3.cx(q[0], q[4]) \n",
    "imbq_control3.cx(q[1], q[4]) \n",
    "\n",
    "# Add measurement operation\n",
    "imbq_control3.measure(q[3], c[3])\n",
    "imbq_control3.measure(q[4], c[4])\n",
    "\n",
    "# Set parameters\n",
    "backend = 'ibmqx4'   \n",
    "circuits = ['IBMQControl3']  \n",
    "shots = 1024           \n",
    "max_credits = 3          \n",
    "wait = 10   \n",
    "timeout = 240 \n",
    "results_real = qp3.execute(circuits, backend, shots=shots, max_credits=max_credits, wait=wait, timeout=timeout)\n",
    "results_real.get_counts(\"IBMQControl3\")"
   ]
  },
  {
   "cell_type": "markdown",
   "metadata": {},
   "source": [
    "## IBMQ Bit Flip Detection"
   ]
  },
  {
   "cell_type": "code",
   "execution_count": null,
   "metadata": {},
   "outputs": [],
   "source": [
    "# Run circuit to detect bit flip error on IBMQ backend\n",
    "qp4eb = QuantumProgram()\n",
    "\n",
    "# 3 qubits plus 2 ancillary qubits\n",
    "n = 5\n",
    "\n",
    "# Quantum register\n",
    "q = qp4eb.create_quantum_register(\"q\", n)\n",
    "# Classical register\n",
    "c = qp4eb.create_classical_register(\"c\", n) \n",
    "\n",
    "# SimControl3 circuit\n",
    "imbq_err_bit3 = qp4eb.create_circuit(\"IMBQErrorBit3\", [q], [c])\n",
    "\n",
    "# ADD GATES\n",
    "# Encode state\n",
    "imbq_err_bit3.cx(q[0], q[1]) \n",
    "imbq_err_bit3.cx(q[1], q[2]) \n",
    "# Introduce bit flip error\n",
    "imbq_err_bit3.x(q[0])\n",
    "# Error detection\n",
    "imbq_err_bit3.cx(q[0], q[3]) \n",
    "imbq_err_bit3.cx(q[1], q[3]) \n",
    "imbq_err_bit3.cx(q[0], q[4]) \n",
    "imbq_err_bit3.cx(q[1], q[4]) \n",
    "\n",
    "# Add measurement operation\n",
    "imbq_err_bit3.measure(q[3], c[3])\n",
    "imbq_err_bit3.measure(q[4], c[4])\n",
    "\n",
    "# Set parameters\n",
    "backend = 'ibmqx4'   \n",
    "circuits = ['IMBQErrorBit3']  \n",
    "shots = 1024           \n",
    "max_credits = 3          \n",
    "wait = 10   \n",
    "timeout = 240 \n",
    "results_real = qp4eb.execute(circuits, backend, shots=shots, max_credits=max_credits, wait=wait, timeout=timeout)\n",
    "results_real.get_counts(\"IMBQErrorBit3\")"
   ]
  },
  {
   "cell_type": "markdown",
   "metadata": {},
   "source": [
    "## IBMQ Phase Flip Detection"
   ]
  },
  {
   "cell_type": "code",
   "execution_count": null,
   "metadata": {},
   "outputs": [],
   "source": [
    "# Run circuit to detect phase flip error on IBMQ backend\n",
    "qp4ep = QuantumProgram()\n",
    "\n",
    "# 3 qubits plus 2 ancillary qubits\n",
    "n = 5\n",
    "\n",
    "# Quantum register\n",
    "q = qp4ep.create_quantum_register(\"q\", n)\n",
    "# Classical register\n",
    "c = qp4ep.create_classical_register(\"c\", n) \n",
    "\n",
    "# IBMQControl4 circuit\n",
    "imbq_err_phase3 = qp4ep.create_circuit(\"IMBQErrorPhase3\", [q], [c])\n",
    "\n",
    "# ADD GATES\n",
    "# Hadamard basis\n",
    "imbq_err_phase3.h(q[0]) \n",
    "imbq_err_phase3.h(q[1]) \n",
    "imbq_err_phase3.h(q[2]) \n",
    "imbq_err_phase3.h(q[3]) \n",
    "imbq_err_phase3.h(q[4]) \n",
    "# Encode state\n",
    "imbq_err_phase3.cx(q[0], q[1]) \n",
    "imbq_err_phase3.cx(q[1], q[2]) \n",
    "# Introduce bit flip error\n",
    "imbq_err_phase3.z(q[0])\n",
    "# Error detection\n",
    "imbq_err_phase3.cx(q[0], q[3]) \n",
    "imbq_err_phase3.cx(q[1], q[3]) \n",
    "imbq_err_phase3.cx(q[0], q[4]) \n",
    "imbq_err_phase3.cx(q[1], q[4]) \n",
    "# Reverse Hadamard basis\n",
    "imbq_err_phase3.h(q[0]) \n",
    "imbq_err_phase3.h(q[1]) \n",
    "imbq_err_phase3.h(q[2]) \n",
    "imbq_err_phase3.h(q[3]) \n",
    "imbq_err_phase3.h(q[4]) \n",
    "\n",
    "# Add measurement operation\n",
    "imbq_err_phase3.measure(q[3], c[3])\n",
    "imbq_err_phase3.measure(q[4], c[4])\n",
    "\n",
    "# Set parameters\n",
    "backend = 'ibmqx4'   \n",
    "circuits = ['IMBQErrorPhase3']  \n",
    "shots = 1024           \n",
    "max_credits = 3          \n",
    "wait = 10   \n",
    "timeout = 240 \n",
    "results_real = qp4ep.execute(circuits, backend, shots=shots, max_credits=max_credits, wait=wait, timeout=timeout)\n",
    "results_real.get_counts(\"IBMQErrorPhase3\")"
   ]
  }
 ],
 "metadata": {
  "kernelspec": {
   "display_name": "Python 3",
   "language": "python",
   "name": "python3"
  },
  "language_info": {
   "codemirror_mode": {
    "name": "ipython",
    "version": 3
   },
   "file_extension": ".py",
   "mimetype": "text/x-python",
   "name": "python",
   "nbconvert_exporter": "python",
   "pygments_lexer": "ipython3",
   "version": "3.6.3"
  }
 },
 "nbformat": 4,
 "nbformat_minor": 2
}
