{
 "cells": [
  {
   "cell_type": "markdown",
   "metadata": {},
   "source": [
    "# Quantum Error Correction Project\n",
    "## Philippe Noël, Alaisha Sharma, Nicolas Weninger\n",
    "### File #3: Error-corrected Deutsch-Josza Algorithm"
   ]
  },
  {
   "cell_type": "markdown",
   "metadata": {},
   "source": [
    "In this file we use our results from the 3-qubits error correction and 9-qubits error correction codes to perform real error-corrected computations on one of the simplest known quantum algorithms: Deutsch-Josza. We first run Deutsch-Josza as a quantum simulation with and without error correction, which should give the same result. We then run Deutsch-Josza with and without error-correction on an IBM Q quantum computer and observe the behaviors of the system."
   ]
  },
  {
   "cell_type": "code",
   "execution_count": 1,
   "metadata": {},
   "outputs": [],
   "source": [
    "from qiskit import QuantumProgram\n",
    "from qiskit.tools.visualization import plot_histogram\n",
    "from qiskit.backends import local_backends, remote_backends\n",
    "from qiskit import QuantumCircuit, ClassicalRegister, QuantumRegister\n",
    "from qutip import *\n",
    "from IPython.display import display, HTML\n",
    "import Qconfig\n",
    "import numpy as np\n",
    "import matplotlib.pyplot as plt"
   ]
  },
  {
   "attachments": {},
   "cell_type": "markdown",
   "metadata": {},
   "source": [
    "As a reminder, Deutsch-Josza helps determine whether a boolean function f(x) is constant (returns the same value for all strings) or balanced (returns 1 for half the strings and 0 for the other half). Here is the quantum circuit for the algorithm with n qubits and 1 ancillary bit:\n",
    "\n",
    "<img src=\"img/deutsch_josza_circuit.png\">\n",
    "\n",
    "In this specific instance of Deutsch-Josza, we define $U_{f}$, the oracle, as $\\left|x\\right>\\left|y\\right>\\mapsto \\left|x\\right>\\left|y \\oplus f(x)\\right>$. \n"
   ]
  },
  {
   "cell_type": "markdown",
   "metadata": {},
   "source": [
    "As we know, Deutsch-Josza can be used to test whether a function is balanced or not, and thus can be used with many different f(x). In the context of this experiment, we are mainly interested in the error-correction aspect, and thus have decided upon a very simple function:\n",
    "\\begin{equation}\n",
    "f(x) = \\left\\{\n",
    "\\begin{array}{c}\n",
    "1 \\text{ if }x = 0 \\\\\n",
    "0 \\text{ if }x = 1.\n",
    "\\end{array}\n",
    "\\right.\n",
    "\\end{equation}"
   ]
  },
  {
   "cell_type": "markdown",
   "metadata": {},
   "source": [
    "We have also settled for a 2-qubits Deutsch-Josza (in order to be able to run it on IBM Q, which cannot run too many qubits and as we have seen QEC scales the number of qubits required by a lot)."
   ]
  },
  {
   "cell_type": "markdown",
   "metadata": {},
   "source": [
    "We first run this Deutsch-Josza on the Qiskit quantum simulator to see its theoretical behavior."
   ]
  },
  {
   "cell_type": "markdown",
   "metadata": {},
   "source": [
    "### 1. Run the theoretical simulation with a local quantum simulator as a control experiment."
   ]
  },
  {
   "cell_type": "code",
   "execution_count": 10,
   "metadata": {},
   "outputs": [
    {
     "name": "stdout",
     "output_type": "stream",
     "text": [
      "Measurement after simulated Deutsch-Josza 2-qubits w/out errors:\n"
     ]
    },
    {
     "data": {
      "image/png": "[encoded data removed]",
      "text/plain": [
       "<matplotlib.figure.Figure at 0x1a16fe1470>"
      ]
     },
     "metadata": {},
     "output_type": "display_data"
    }
   ],
   "source": [
    "# run circuit without any errors on local quantum simulator\n",
    "qp1 = QuantumProgram()\n",
    "\n",
    "# 2 qubits Deutsch-Josza version\n",
    "n = 2\n",
    "\n",
    "# initialize quantum and classical registers\n",
    "q1 = qp1.create_quantum_register(\"q1\", n)\n",
    "c1 = qp1.create_classical_register(\"c1\", n) \n",
    "\n",
    "# theoretical Deutsch-Josza 2-qubits circuit\n",
    "theoretical_DJ2 = qp1.create_circuit(\"theoretical_DJ2\", [q1], [c1])\n",
    "\n",
    "# add gates\n",
    "# encode superposition\n",
    "theoretical_DJ2.h(q1[0])\n",
    "theoretical_DJ2.h(q1[1])\n",
    "# U_f gate --> equivalent to CNOT that flips if control is 0 instead of 1\n",
    "theoretical_DJ2.x(q1[0])\n",
    "theoretical_DJ2.cx(q1[0], q1[1])\n",
    "theoretical_DJ2.x(q1[0])\n",
    "# decode superposition\n",
    "theoretical_DJ2.h(q1[0])\n",
    "\n",
    "# measurement operation\n",
    "theoretical_DJ2.measure(q1[0], c1[0])\n",
    "\n",
    "# execute circuit\n",
    "results1 = qp1.execute(\"theoretical_DJ2\")\n",
    "\n",
    "# plot measurement results \n",
    "print(\"Measurement after simulated Deutsch-Josza 2-qubits w/out errors:\")\n",
    "plot_histogram(results1.get_counts(\"theoretical_DJ2\"))"
   ]
  },
  {
   "cell_type": "markdown",
   "metadata": {},
   "source": [
    "Running the previous simulation, but this time on an IBM Q quantum computer to see the real probabilities result:"
   ]
  },
  {
   "cell_type": "markdown",
   "metadata": {},
   "source": [
    "### 2. Run the theoretical simulation with a real quantum computer to see the magnitude of errors."
   ]
  },
  {
   "cell_type": "code",
   "execution_count": 11,
   "metadata": {},
   "outputs": [
    {
     "name": "stderr",
     "output_type": "stream",
     "text": [
      "/anaconda/lib/python3.6/site-packages/qiskit/_quantumprogram.py:707: DeprecationWarning: set_api() will be deprecated in upcoming versions (>0.5.0). Using the API object instead is recommended.\n",
      "  \"Using the API object instead is recommended.\", DeprecationWarning)\n"
     ]
    },
    {
     "data": {
      "text/plain": [
       "['local_qasm_simulator',\n",
       " 'local_clifford_simulator',\n",
       " 'local_qiskit_simulator',\n",
       " 'local_sympy_qasm_simulator',\n",
       " 'local_sympy_unitary_simulator',\n",
       " 'local_unitary_simulator']"
      ]
     },
     "metadata": {},
     "output_type": "display_data"
    },
    {
     "data": {
      "text/plain": [
       "['ibmqx_hpc_qasm_simulator',\n",
       " 'ibmqx4',\n",
       " 'ibmqx5',\n",
       " 'ibmqx2',\n",
       " 'ibmqx_qasm_simulator']"
      ]
     },
     "metadata": {},
     "output_type": "display_data"
    }
   ],
   "source": [
    "# initialize our API with this program to run on IBM Q\n",
    "qp1.set_api(Qconfig.APItoken, Qconfig.config[\"url\"])\n",
    "\n",
    "# check the remote and local quantum backends available to make\n",
    "# sure that a quantum computer is available\n",
    "# link to see devices architectures and their availability: https://quantumexperience.ng.bluemix.net/qx/devices\n",
    "display(local_backends())\n",
    "display(remote_backends())"
   ]
  },
  {
   "cell_type": "code",
   "execution_count": 39,
   "metadata": {},
   "outputs": [
    {
     "data": {
      "image/png": "[encoded data removed]",
      "text/plain": [
       "<matplotlib.figure.Figure at 0x1a0a685550>"
      ]
     },
     "metadata": {},
     "output_type": "display_data"
    }
   ],
   "source": [
    "# set parameters\n",
    "backend = 'ibmqx4' # this is a 5-qubits quantum computer   \n",
    "circuits = ['theoretical_DJ2']  \n",
    "shots = 1024           \n",
    "max_credits = 3          \n",
    "wait = 10   \n",
    "timeout = 2400 \n",
    "results_real1 = qp1.execute(circuits, backend, shots=shots, max_credits=max_credits, wait=wait, timeout=timeout)\n",
    "plot_histogram(results_real1.get_counts(\"theoretical_DJ2\"))"
   ]
  },
  {
   "cell_type": "markdown",
   "metadata": {},
   "source": [
    "As we can see here, there is about 4% error rate (varies between 3.5% and 4.5%) of a bit flip from 0 to 1 when run on a real quantum computer (the IBM quantum computers are not error-correcting). We can now look at fixing this. A few words on how to interpret this diagram: Only the last qubit is |psi> state, so the state that matters here (the only that gets measured - refer to the circuit diagram). However, we ran our code on a 5-qubits IBM quantum computer, and thus all results are rendered as 5-qubits state, but we can disregard the first 3 since they were not involved in the algorithm and the fourth qubit since it does not get measured."
   ]
  },
  {
   "attachments": {},
   "cell_type": "markdown",
   "metadata": {},
   "source": [
    "We will introduce the 3-qubits error correcting bit-flip code in our Deutsch-Josza process, for a total of 6 encoding qubits (since we run Deutsch-Josza on 2 qubits) and then use this error correction to better the results. As a reminder, here is a 3-qubits error-correction scheme:\n",
    "\n",
    "<img src=\"img/9_qubits_single_qubit_encoding_circuit.png\">"
   ]
  },
  {
   "cell_type": "markdown",
   "metadata": {},
   "source": [
    "Under this error correction scheme, our Deutsch-Josza algorithm will take place in the \"Error\" position."
   ]
  },
  {
   "cell_type": "markdown",
   "metadata": {},
   "source": [
    "First, we will run our Deutsch-Josza theoretically, on the quantum simulator as in the first step, but this time with an induced bit flip error."
   ]
  },
  {
   "cell_type": "markdown",
   "metadata": {},
   "source": [
    "### 3. Run Deutsch-Josza w/ induced X-flip error & 3-qubits QEC code on the theoretical simulation."
   ]
  },
  {
   "cell_type": "code",
   "execution_count": 27,
   "metadata": {},
   "outputs": [
    {
     "name": "stdout",
     "output_type": "stream",
     "text": [
      "Measurement after simulated Deutsch-Josza 2-qubits with 3-qubits QEC for X-flip error:\n"
     ]
    },
    {
     "data": {
      "image/png": "[encoded data removed]",
      "text/plain": [
       "<matplotlib.figure.Figure at 0x1a1840d128>"
      ]
     },
     "metadata": {},
     "output_type": "display_data"
    }
   ],
   "source": [
    "# run circuit with single bit-flip error & 3-qubits correction on local quantum simulator\n",
    "qp2 = QuantumProgram()\n",
    "\n",
    "# 6 qubits Deutsch-Josza for 2-qubits version (w/ 5 qubits for error correction for the |psi> state)\n",
    "n = 6\n",
    "\n",
    "# initialize quantum and classical registers\n",
    "q2 = qp2.create_quantum_register(\"q2\", n)\n",
    "c2 = qp2.create_classical_register(\"c2\", n) \n",
    "\n",
    "# create circuit --> theoretical Deutsch-Josza 2-qubits circuit w/ 3-qubits QEC\n",
    "t3qec_DJ2 = qp2.create_circuit(\"t3qec_DJ2\", [q2], [c2])\n",
    "\n",
    "# add gates\n",
    "# encode state\n",
    "t3qec_DJ2.cx(q2[0], q2[1]) \n",
    "t3qec_DJ2.cx(q2[1], q2[2]) \n",
    "\n",
    "# we now introduce errors to our state. There will be none here as this\n",
    "# is a simulation, but the error would come from the running of the \n",
    "# Deutsch-Josza algorithm qubit 0 and qubit 5 are our DJ qubits\n",
    "# encode superposition\n",
    "t3qec_DJ2.h(q2[0])\n",
    "t3qec_DJ2.h(q2[5])\n",
    "# U_f gate --> equivalent to CNOT that flips if control is 0 instead of 1\n",
    "t3qec_DJ2.x(q2[0])\n",
    "t3qec_DJ2.cx(q2[0], q2[5])\n",
    "t3qec_DJ2.x(q2[0])\n",
    "# decode superposition\n",
    "t3qec_DJ2.h(q2[0])\n",
    "\n",
    "# since there was no error since this is a simulation, we introduce a manual\n",
    "# error to show that it would be corrected if this happened during Deutsch-Josza\n",
    "t3qec_DJ2.x(q2[0])\n",
    "\n",
    "# error detection component, looking for error on |psi>\n",
    "t3qec_DJ2.cx(q2[0], q2[3]) \n",
    "t3qec_DJ2.cx(q2[1], q2[3]) \n",
    "t3qec_DJ2.cx(q2[0], q2[4]) \n",
    "t3qec_DJ2.cx(q2[2], q2[4]) \n",
    "\n",
    "# error correction component, correcting error if found\n",
    "t3qec_DJ2.ccx(q2[3], q2[4], q2[0])\n",
    "t3qec_DJ2.ccx(q2[3], q2[4], q2[1])\n",
    "t3qec_DJ2.ccx(q2[3], q2[4], q2[2])\n",
    "t3qec_DJ2.cx(q2[3], q2[1]) \n",
    "t3qec_DJ2.cx(q2[4], q2[2])\n",
    "\n",
    "# measurement operation --> only care about |psi>\n",
    "t3qec_DJ2.measure(q2[0], c2[0])\n",
    "\n",
    "# execute circuit\n",
    "results2 = qp2.execute(\"t3qec_DJ2\")\n",
    "\n",
    "# plot measurement results \n",
    "print(\"Measurement after simulated Deutsch-Josza 2-qubits with 3-qubits QEC for X-flip error:\")\n",
    "plot_histogram(results2.get_counts(\"t3qec_DJ2\"))"
   ]
  },
  {
   "cell_type": "markdown",
   "metadata": {},
   "source": [
    "As we can see, we get the same theoretical result as we were expecting and as we ran without the error correction. This makes sense, since there were no \"real\" error to correct here. We added a manual X-flip error to show that this 3-qubits error correction code can effectively correct through an actual algorithm. The more detailled proof of work of the whole 3-qubits code can be found in its own file."
   ]
  },
  {
   "cell_type": "markdown",
   "metadata": {},
   "source": [
    "Now that we have observed that it works on the simulator and effectively corrected the error, we run it on an actual quantum computer, hoping to see the magnitude of the error that we calcualted previously diminish."
   ]
  },
  {
   "cell_type": "markdown",
   "metadata": {},
   "source": [
    "### 4. Run Deutsch-Josza w/ induced X-flip error & 3-qubits QEC on a quantum computer to see the correction."
   ]
  },
  {
   "cell_type": "code",
   "execution_count": 28,
   "metadata": {},
   "outputs": [
    {
     "name": "stderr",
     "output_type": "stream",
     "text": [
      "/anaconda/lib/python3.6/site-packages/qiskit/_quantumprogram.py:707: DeprecationWarning: set_api() will be deprecated in upcoming versions (>0.5.0). Using the API object instead is recommended.\n",
      "  \"Using the API object instead is recommended.\", DeprecationWarning)\n"
     ]
    },
    {
     "data": {
      "text/plain": [
       "['local_qasm_simulator',\n",
       " 'local_clifford_simulator',\n",
       " 'local_qiskit_simulator',\n",
       " 'local_sympy_qasm_simulator',\n",
       " 'local_sympy_unitary_simulator',\n",
       " 'local_unitary_simulator']"
      ]
     },
     "metadata": {},
     "output_type": "display_data"
    },
    {
     "data": {
      "text/plain": [
       "['ibmqx_hpc_qasm_simulator',\n",
       " 'ibmqx4',\n",
       " 'ibmqx5',\n",
       " 'ibmqx2',\n",
       " 'ibmqx_qasm_simulator']"
      ]
     },
     "metadata": {},
     "output_type": "display_data"
    }
   ],
   "source": [
    "# initialize our API with this program to run on IBM Q\n",
    "qp2.set_api(Qconfig.APItoken, Qconfig.config[\"url\"])\n",
    "\n",
    "# check the remote and local quantum backends available to make\n",
    "# sure that a quantum computer is available\n",
    "# link to see devices architectures and their availability: https://quantumexperience.ng.bluemix.net/qx/devices\n",
    "display(local_backends())\n",
    "display(remote_backends())"
   ]
  },
  {
   "cell_type": "markdown",
   "metadata": {},
   "source": [
    "We now need to re-create the qp2 program, but without the manually induced error, since the errors will exist on the IBM Q quantum computer."
   ]
  },
  {
   "attachments": {},
   "cell_type": "markdown",
   "metadata": {},
   "source": [
    "Since we are here turning to a different quantum computer, we must analyze its architecture. The architectures for IBM Q computers are different depending on the number of qubits. The 5-qubits adopts the star architecture, while the 16-qubits adopts the lattice architecture, which requires us to perform some different mapping to run it (while on the simulator we did not have to worry about the mapping).\n",
    "\n",
    "5-qubits architecture:\n",
    "\n",
    "<img src=\"img/5_qubits_architecture.png\">"
   ]
  },
  {
   "attachments": {},
   "cell_type": "markdown",
   "metadata": {},
   "source": [
    "16-qubits architecture:\n",
    "\n",
    "<img src=\"img/16_qubits_architecture.png\">"
   ]
  },
  {
   "attachments": {},
   "cell_type": "markdown",
   "metadata": {},
   "source": [
    "This is where we stumble across a problem. If we look at the 3-qubits code architecture from above, there are 3 CNOT gates involving |psi>. If you we look at Deutsch-Josza, there is also one CNOT gate, which means we need a qubit which can take in 4 controls, which does not exist on any of the 5-qubits or 16-qubits computers. \n",
    "\n",
    "One way to solve for this problem would be to use the IBM Q 20-qubits quantum computer, which has a much better lattice structure and can perform a stronger type of error correction. We briefly touch on this in our last notebook (refer to it for more detailled explanations).\n",
    "\n",
    "<img src=\"img/modern_QEC_architecture.png\">"
   ]
  },
  {
   "cell_type": "markdown",
   "metadata": {},
   "source": [
    "As a result, it appears that we are unable to map the 3-qubits Deutsch-Josza to the available IBM Q quantum computers due to an architecture problem, and we are unable to run the 9-qubits code for the same reason (along with the larger requirement for qubits) as is explained below. We must thus settle for simulations here."
   ]
  },
  {
   "cell_type": "markdown",
   "metadata": {},
   "source": [
    "### 5. Run Deutsch-Josza w/ induced X-flip error & 9-qubits QEC code on the theoretical simulation."
   ]
  },
  {
   "cell_type": "markdown",
   "metadata": {},
   "source": [
    "As is explained in the nine_qubits_QEC_code file, the 9-qubits error correction code cannot be run on an actual quantum computer due to the lack of appropriate architecture and the size of the available computers. We nevertheless use it in an actual algorithm, mainly Deutsch-Josza, but on the quantum simulator. Refer to the 9-qubits file to see a thorough explanation of how the 9-qubits code works (we omit it here for cleanness)."
   ]
  },
  {
   "cell_type": "markdown",
   "metadata": {},
   "source": [
    "We encode the state |psi> according to this scheme."
   ]
  },
  {
   "attachments": {},
   "cell_type": "markdown",
   "metadata": {},
   "source": [
    "<img src=\"img/9_qubits_single_qubit_encoding_circuit.png\">"
   ]
  },
  {
   "cell_type": "markdown",
   "metadata": {},
   "source": [
    "We only need to encode one of the two Deutsch-Josza qubits according to the following scheme since only one will be measured, so we only care to error-correct on the measured state."
   ]
  },
  {
   "cell_type": "markdown",
   "metadata": {},
   "source": [
    "As per the 9-qubits file, we correct according to the following circuit. In this context, the error induced is actually coming from the running of Deutsch-Josza, which will therefore be placed in the Error (E) component)."
   ]
  },
  {
   "attachments": {},
   "cell_type": "markdown",
   "metadata": {},
   "source": [
    "<img src=\"img/9_qubits_total.jpg\">"
   ]
  },
  {
   "cell_type": "code",
   "execution_count": 24,
   "metadata": {},
   "outputs": [
    {
     "name": "stdout",
     "output_type": "stream",
     "text": [
      "Measurement after simulated Deutsch-Josza 2-qubits through 9-qubits QEC:\n"
     ]
    },
    {
     "data": {
      "image/png": "[encoded data removed]",
      "text/plain": [
       "<matplotlib.figure.Figure at 0x1a16f93080>"
      ]
     },
     "metadata": {},
     "output_type": "display_data"
    }
   ],
   "source": [
    "# run circuit with single bit-flip error & 9-qubits correction on local quantum simulator\n",
    "# define program\n",
    "qp3 = QuantumProgram()\n",
    "n = 10  # number of qubits (9 to encode the first qubit & 1 for the second Deutsch-Josza qubit)\n",
    "q3 = qp3.create_quantum_register(\"q3\", n) # quantum register\n",
    "c3 = qp3.create_classical_register(\"c3\", n) # classical register\n",
    "\n",
    "# create circuit --> theoretical 9-qubits error corrected Deutsch-Josza\n",
    "t9qec_DJ2 = qp3.create_circuit(\"t9qec_DJ2\", [q3], [c3])\n",
    "\n",
    "# add gates\n",
    "# creating our state |psi>\n",
    "t9qec_DJ2.h(q3[0])\n",
    "\n",
    "# encoding the state (refer to 9-qubits file)\n",
    "t9qec_DJ2.cx(q3[0], q3[3])\n",
    "t9qec_DJ2.cx(q3[0], q3[6])\n",
    "t9qec_DJ2.h(q3[0])\n",
    "t9qec_DJ2.h(q3[3])\n",
    "t9qec_DJ2.h(q3[6])\n",
    "t9qec_DJ2.cx(q3[0], q3[1])\n",
    "t9qec_DJ2.cx(q3[0], q3[2])\n",
    "t9qec_DJ2.cx(q3[3], q3[4])\n",
    "t9qec_DJ2.cx(q3[3], q3[5])\n",
    "t9qec_DJ2.cx(q3[6], q3[7])\n",
    "t9qec_DJ2.cx(q3[6], q3[8])\n",
    "\n",
    "# we now introduce errors to our state. There will be none here as this\n",
    "# is a simulation, but the error would come from the running of the \n",
    "# Deutsch-Josza algorithm qubit 0 and qubit 9 are our DJ qubits\n",
    "# encode superposition\n",
    "t9qec_DJ2.h(q3[0])\n",
    "t9qec_DJ2.h(q3[9])\n",
    "# U_f gate --> equivalent to CNOT that flips if control is 0 instead of 1\n",
    "t9qec_DJ2.x(q3[0])\n",
    "t9qec_DJ2.cx(q3[0], q3[9])\n",
    "t9qec_DJ2.x(q3[0])\n",
    "# decode superposition\n",
    "t9qec_DJ2.h(q3[0])\n",
    "\n",
    "# since there was no error since this is a simulation, we introduce a manual\n",
    "# error to show that it would be corrected if this happened during Deutsch-Josza\n",
    "t9qec_DJ2.z(q3[0])\n",
    "t9qec_DJ2.x(q3[0])\n",
    "\n",
    "# we now perform the error correction\n",
    "# X-error correction\n",
    "t9qec_DJ2.cx(q3[0], q3[1])\n",
    "t9qec_DJ2.cx(q3[0], q3[2])\n",
    "t9qec_DJ2.ccx(q3[1], q3[2], q3[0])\n",
    "t9qec_DJ2.cx(q3[3], q3[4])\n",
    "t9qec_DJ2.cx(q3[3], q3[5])\n",
    "t9qec_DJ2.ccx(q3[4], q3[5], q3[3])\n",
    "t9qec_DJ2.cx(q3[6], q3[7])\n",
    "t9qec_DJ2.cx(q3[6], q3[8])\n",
    "t9qec_DJ2.ccx(q3[7], q3[8], q3[6])\n",
    "\n",
    "# Z-error correction\n",
    "t9qec_DJ2.h(q3[0])\n",
    "t9qec_DJ2.h(q3[3])\n",
    "t9qec_DJ2.h(q3[6])\n",
    "t9qec_DJ2.cx(q3[0], q3[3])\n",
    "t9qec_DJ2.cx(q3[0], q3[6])\n",
    "t9qec_DJ2.ccx(q3[3], q3[6], q3[0])\n",
    "\n",
    "# measurement operation\n",
    "t9qec_DJ2.h(q3[0]) # decoding to appropriate measurement basis\n",
    "t9qec_DJ2.measure(q3[0], c3[0])\n",
    "\n",
    "# execute circuit\n",
    "results3 = qp3.execute(\"t9qec_DJ2\", shots=100) # less shots to speed up computations since 2^10 states\n",
    "\n",
    "# plot measurement results \n",
    "print(\"Measurement after simulated Deutsch-Josza 2-qubits through 9-qubits QEC:\")\n",
    "plot_histogram(results3.get_counts(\"t9qec_DJ2\"))"
   ]
  },
  {
   "cell_type": "markdown",
   "metadata": {},
   "source": [
    "As we can see, we get the same theoretical result as we were expecting and as we ran without the error correction. This makes sense, since there were no \"real\" error to correct here. The proof that this code does indeed correct errors theoretically can be found on the 9-qubits file, here we mainly wanted to show that it could be ran through Deutsch-Josza on the similar error from the 9-qubits file, which shows that this type of error can effectively be corrected by on an actual algorithm."
   ]
  },
  {
   "cell_type": "markdown",
   "metadata": {},
   "source": [
    "As was mentioned in the 3-qubits file, the 3-qubits code is NOT a full quantum error-correcting code. The first true quantum error-correcting code is the 9-qubits code. Unfortunately, this is too large for us to be able to run it along with Deutsch-Josza on an actual quantum computer from IBM (we only have access to up to 16-qubits quantum computers). We thus have to settle for the 3-qubits partial error-correction code for this instance, but hope to be able to re-work on this project later when larger quantum computers will be available and run the simulation instance that we have shown above on an actual quantum computer."
   ]
  },
  {
   "attachments": {},
   "cell_type": "markdown",
   "metadata": {},
   "source": [
    "The 20-qubits quantum computer could potentially provide the appropriate mapping to run it, but unfortunately is unavailable to us.\n",
    "\n",
    "<img src=\"img/20_qubits_architecture.png\">"
   ]
  }
 ],
 "metadata": {
  "kernelspec": {
   "display_name": "Python 3",
   "language": "python",
   "name": "python3"
  },
  "language_info": {
   "codemirror_mode": {
    "name": "ipython",
    "version": 3
   },
   "file_extension": ".py",
   "mimetype": "text/x-python",
   "name": "python",
   "nbconvert_exporter": "python",
   "pygments_lexer": "ipython3",
   "version": "3.6.1"
  }
 },
 "nbformat": 4,
 "nbformat_minor": 2
}
