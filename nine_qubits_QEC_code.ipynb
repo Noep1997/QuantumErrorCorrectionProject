{
 "cells": [
  {
   "cell_type": "markdown",
   "metadata": {},
   "source": [
    "# Quantum Error Correction Project\n",
    "## Philippe Noël, Alaisha Sharma, Nicolas Weninger\n",
    "### File #2: 9-qubits code"
   ]
  },
  {
   "cell_type": "code",
   "execution_count": 1,
   "metadata": {},
   "outputs": [],
   "source": [
    "import numpy as np\n",
    "from qiskit import QuantumProgram\n",
    "import Qconfig\n",
    "from qiskit.tools.visualization import plot_histogram, plot_state"
   ]
  },
  {
   "cell_type": "code",
   "execution_count": 2,
   "metadata": {},
   "outputs": [
    {
     "name": "stderr",
     "output_type": "stream",
     "text": [
      "/anaconda/lib/python3.6/site-packages/qiskit/_quantumprogram.py:707: DeprecationWarning: set_api() will be deprecated in upcoming versions (>0.5.0). Using the API object instead is recommended.\n",
      "  \"Using the API object instead is recommended.\", DeprecationWarning)\n"
     ]
    }
   ],
   "source": [
    "Q_program = QuantumProgram()\n",
    "Q_program.set_api(Qconfig.APItoken, Qconfig.config['url']) # set the APIToken and API url"
   ]
  },
  {
   "attachments": {},
   "cell_type": "markdown",
   "metadata": {},
   "source": [
    "#### Overview of the 9-qubit code\n",
    "Source: https://pdfs.semanticscholar.org/f456/dfade192d442fce02e394fc01402adba7fc4.pdf\n",
    "\n",
    "<img src=\"img/9_qubit_detailed.png\">"
   ]
  },
  {
   "cell_type": "markdown",
   "metadata": {},
   "source": [
    "### 1. Run the theoretical simulation with a local quantum simulator as a control experiment."
   ]
  },
  {
   "cell_type": "code",
   "execution_count": 3,
   "metadata": {},
   "outputs": [],
   "source": [
    "# define program\n",
    "qp1 = QuantumProgram()\n",
    "n = 9  # number of qubits\n",
    "q = qp1.create_quantum_register(\"q\", n) # quantum register\n",
    "c = qp1.create_classical_register(\"c\", n) # classical register"
   ]
  },
  {
   "cell_type": "code",
   "execution_count": 4,
   "metadata": {},
   "outputs": [],
   "source": [
    "# create circuit\n",
    "SimControl9 = qp1.create_circuit(\"SimControl9\", [q], [c])"
   ]
  },
  {
   "cell_type": "markdown",
   "metadata": {},
   "source": [
    "#### Create an arbitrary state $|\\psi\\rangle$"
   ]
  },
  {
   "cell_type": "code",
   "execution_count": 5,
   "metadata": {},
   "outputs": [
    {
     "data": {
      "text/plain": [
       "<qiskit.extensions.standard.h.HGate at 0x10fe55080>"
      ]
     },
     "execution_count": 5,
     "metadata": {},
     "output_type": "execute_result"
    }
   ],
   "source": [
    "SimControl9.h(q[0])"
   ]
  },
  {
   "attachments": {},
   "cell_type": "markdown",
   "metadata": {},
   "source": [
    "#### The following cell encodes the arbitrary state $|\\psi\\rangle$ to 9 qubits as follows:\n",
    "\n",
    "<img src=\"img/9_qubits_single_qubit_encoding_circuit.png\">"
   ]
  },
  {
   "cell_type": "code",
   "execution_count": 6,
   "metadata": {},
   "outputs": [
    {
     "data": {
      "text/plain": [
       "<qiskit.extensions.standard.cx.CnotGate at 0x10ff0dcf8>"
      ]
     },
     "execution_count": 6,
     "metadata": {},
     "output_type": "execute_result"
    }
   ],
   "source": [
    "# Encoding Stage\n",
    "SimControl9.cx(q[0],q[3])\n",
    "SimControl9.cx(q[0],q[6])\n",
    "\n",
    "SimControl9.h(q[0])\n",
    "SimControl9.h(q[3])\n",
    "SimControl9.h(q[6])\n",
    "\n",
    "SimControl9.cx(q[0],q[1])\n",
    "SimControl9.cx(q[0],q[2])\n",
    "\n",
    "SimControl9.cx(q[3],q[4])\n",
    "SimControl9.cx(q[3],q[5])\n",
    "\n",
    "SimControl9.cx(q[6],q[7])\n",
    "SimControl9.cx(q[6],q[8])"
   ]
  },
  {
   "attachments": {},
   "cell_type": "markdown",
   "metadata": {},
   "source": [
    "<img src=\"img/9_qubits_total.jpg\">"
   ]
  },
  {
   "cell_type": "markdown",
   "metadata": {},
   "source": [
    "#### This cell performs X-error correction for the 9-qubit code using the ancilla qubits n+1 and n+2, where n is the first qubit in the block of three."
   ]
  },
  {
   "cell_type": "code",
   "execution_count": 7,
   "metadata": {},
   "outputs": [
    {
     "data": {
      "text/plain": [
       "<qiskit.extensions.standard.ccx.ToffoliGate at 0x10ff0df28>"
      ]
     },
     "execution_count": 7,
     "metadata": {},
     "output_type": "execute_result"
    }
   ],
   "source": [
    "SimControl9.cx(q[0],q[1])\n",
    "SimControl9.cx(q[0],q[2])\n",
    "SimControl9.ccx(q[1],q[2],q[0])\n",
    "\n",
    "SimControl9.cx(q[3],q[4])\n",
    "SimControl9.cx(q[3],q[5])\n",
    "SimControl9.ccx(q[4],q[5],q[3])\n",
    "\n",
    "SimControl9.cx(q[6],q[7])\n",
    "SimControl9.cx(q[6],q[8])\n",
    "SimControl9.ccx(q[7],q[8],q[6])"
   ]
  },
  {
   "cell_type": "markdown",
   "metadata": {},
   "source": [
    "#### This cell performs Z-error correction for the 9-qubit code using the same principle as in the 3-qubit scheme."
   ]
  },
  {
   "cell_type": "code",
   "execution_count": 8,
   "metadata": {},
   "outputs": [
    {
     "data": {
      "text/plain": [
       "<qiskit.extensions.standard.ccx.ToffoliGate at 0x10fea6e48>"
      ]
     },
     "execution_count": 8,
     "metadata": {},
     "output_type": "execute_result"
    }
   ],
   "source": [
    "SimControl9.h(q[0])\n",
    "SimControl9.h(q[3])\n",
    "SimControl9.h(q[6])\n",
    "\n",
    "SimControl9.cx(q[0],q[3])\n",
    "SimControl9.cx(q[0],q[6])\n",
    "\n",
    "SimControl9.ccx(q[3],q[6],q[0]) # correct"
   ]
  },
  {
   "cell_type": "markdown",
   "metadata": {},
   "source": [
    "#### Measure logical qubit"
   ]
  },
  {
   "cell_type": "code",
   "execution_count": 9,
   "metadata": {
    "scrolled": true
   },
   "outputs": [
    {
     "data": {
      "text/plain": [
       "<qiskit._measure.Measure at 0x10fea6e80>"
      ]
     },
     "execution_count": 9,
     "metadata": {},
     "output_type": "execute_result"
    }
   ],
   "source": [
    "SimControl9.measure(q[0], c[0])"
   ]
  },
  {
   "cell_type": "markdown",
   "metadata": {},
   "source": [
    "#### Execute and plot the measurement results  \n",
    "The shots paremeter allowed us to simulate the circuit quickly without taking too much time, as there are $2^{9}$ states to compute with."
   ]
  },
  {
   "cell_type": "code",
   "execution_count": 10,
   "metadata": {},
   "outputs": [
    {
     "data": {
      "image/png": "[encoded data removed]",
      "text/plain": [
       "<matplotlib.figure.Figure at 0x10fea6400>"
      ]
     },
     "metadata": {},
     "output_type": "display_data"
    }
   ],
   "source": [
    "results = qp1.execute(\"SimControl9\", shots = 50)\n",
    "plot_histogram(results.get_counts(\"SimControl9\"))"
   ]
  },
  {
   "cell_type": "markdown",
   "metadata": {},
   "source": [
    "#### as $|\\psi\\rangle = \\frac{1}{\\sqrt{2}}|0\\rangle + \\frac{1}{\\sqrt{2}}|1\\rangle$ this makes sense. There were no introduced errors. "
   ]
  },
  {
   "cell_type": "markdown",
   "metadata": {},
   "source": [
    "### 2. Run the theoretical simulation with a local quantum simulator with X and Z flips introduced to one qubit."
   ]
  },
  {
   "cell_type": "code",
   "execution_count": 11,
   "metadata": {},
   "outputs": [],
   "source": [
    "# define program\n",
    "qp2 = QuantumProgram()\n",
    "n = 9  # number of qubits\n",
    "q = qp2.create_quantum_register(\"q\", n) # quantum register\n",
    "c = qp2.create_classical_register(\"c\", n) # classical register"
   ]
  },
  {
   "cell_type": "code",
   "execution_count": 12,
   "metadata": {},
   "outputs": [],
   "source": [
    "# create circuit\n",
    "SimError9 = qp2.create_circuit(\"SimError9\", [q], [c])"
   ]
  },
  {
   "cell_type": "markdown",
   "metadata": {},
   "source": [
    "#### Create an arbitrary state $|\\psi\\rangle$"
   ]
  },
  {
   "cell_type": "code",
   "execution_count": 13,
   "metadata": {},
   "outputs": [
    {
     "data": {
      "text/plain": [
       "<qiskit.extensions.standard.h.HGate at 0x10ffb4208>"
      ]
     },
     "execution_count": 13,
     "metadata": {},
     "output_type": "execute_result"
    }
   ],
   "source": [
    "SimError9.h(q[0])"
   ]
  },
  {
   "attachments": {},
   "cell_type": "markdown",
   "metadata": {},
   "source": [
    "#### The following cell encodes the arbitrary state $|\\psi\\rangle$ to 9 qubits as follows, starting with the first two CNOTs:\n",
    "\n",
    "<img src=\"img/9_qubits_single_qubit_encoding_circuit.png\">"
   ]
  },
  {
   "cell_type": "code",
   "execution_count": 14,
   "metadata": {},
   "outputs": [
    {
     "data": {
      "text/plain": [
       "<qiskit.extensions.standard.cx.CnotGate at 0x111049ba8>"
      ]
     },
     "execution_count": 14,
     "metadata": {},
     "output_type": "execute_result"
    }
   ],
   "source": [
    "# First Encoding Stage\n",
    "SimError9.cx(q[0],q[3])\n",
    "SimError9.cx(q[0],q[6])\n",
    "\n",
    "SimError9.h(q[0])\n",
    "SimError9.h(q[3])\n",
    "SimError9.h(q[6])\n",
    "\n",
    "SimError9.cx(q[0],q[1])\n",
    "SimError9.cx(q[0],q[2])\n",
    "\n",
    "SimError9.cx(q[3],q[4])\n",
    "SimError9.cx(q[3],q[5])\n",
    "\n",
    "SimError9.cx(q[6],q[7])\n",
    "SimError9.cx(q[6],q[8])"
   ]
  },
  {
   "cell_type": "markdown",
   "metadata": {},
   "source": [
    "#### Introduce Z-flip and X-flip error to q0"
   ]
  },
  {
   "cell_type": "code",
   "execution_count": 15,
   "metadata": {},
   "outputs": [
    {
     "data": {
      "text/plain": [
       "<qiskit.extensions.standard.x.XGate at 0x10ffb0fd0>"
      ]
     },
     "execution_count": 15,
     "metadata": {},
     "output_type": "execute_result"
    }
   ],
   "source": [
    "SimError9.z(q[0])\n",
    "SimError9.x(q[0])"
   ]
  },
  {
   "attachments": {},
   "cell_type": "markdown",
   "metadata": {},
   "source": [
    "<img src=\"img/9_qubits_total.jpg\">"
   ]
  },
  {
   "cell_type": "markdown",
   "metadata": {},
   "source": [
    "#### This cell performs X-error correction for the 9-qubit code using the ancilla qubits n+1 and n+2, where n is the first qubit in the block of three."
   ]
  },
  {
   "cell_type": "code",
   "execution_count": 16,
   "metadata": {},
   "outputs": [
    {
     "data": {
      "text/plain": [
       "<qiskit.extensions.standard.ccx.ToffoliGate at 0x11106a240>"
      ]
     },
     "execution_count": 16,
     "metadata": {},
     "output_type": "execute_result"
    }
   ],
   "source": [
    "SimError9.cx(q[0],q[1])\n",
    "SimError9.cx(q[0],q[2])\n",
    "SimError9.ccx(q[1],q[2],q[0]) # correct\n",
    "\n",
    "SimError9.cx(q[3],q[4])\n",
    "SimError9.cx(q[3],q[5])\n",
    "SimError9.ccx(q[4],q[5],q[3]) # correct\n",
    "\n",
    "SimError9.cx(q[6],q[7])\n",
    "SimError9.cx(q[6],q[8])\n",
    "SimError9.ccx(q[7],q[8],q[6]) # correct\n"
   ]
  },
  {
   "cell_type": "markdown",
   "metadata": {},
   "source": [
    "#### This cell performs Z-error correction for the 9-qubit code using the same principle as in the 3-qubit scheme."
   ]
  },
  {
   "cell_type": "code",
   "execution_count": 17,
   "metadata": {},
   "outputs": [
    {
     "data": {
      "text/plain": [
       "<qiskit.extensions.standard.ccx.ToffoliGate at 0x11100c208>"
      ]
     },
     "execution_count": 17,
     "metadata": {},
     "output_type": "execute_result"
    }
   ],
   "source": [
    "SimError9.h(q[0])\n",
    "SimError9.h(q[3])\n",
    "SimError9.h(q[6])\n",
    "\n",
    "SimError9.cx(q[0],q[3])\n",
    "SimError9.cx(q[0],q[6])\n",
    "SimError9.ccx(q[3],q[6],q[0]) # correct"
   ]
  },
  {
   "cell_type": "markdown",
   "metadata": {},
   "source": [
    "#### Measure logical qubit"
   ]
  },
  {
   "cell_type": "code",
   "execution_count": 18,
   "metadata": {},
   "outputs": [
    {
     "data": {
      "text/plain": [
       "<qiskit._measure.Measure at 0x10a70c2b0>"
      ]
     },
     "execution_count": 18,
     "metadata": {},
     "output_type": "execute_result"
    }
   ],
   "source": [
    "SimError9.measure(q[0], c[0])"
   ]
  },
  {
   "cell_type": "markdown",
   "metadata": {},
   "source": [
    "#### Execute and plot the measurement results"
   ]
  },
  {
   "cell_type": "code",
   "execution_count": 19,
   "metadata": {},
   "outputs": [
    {
     "data": {
      "image/png": "[encoded data removed]",
      "text/plain": [
       "<matplotlib.figure.Figure at 0x10ff845f8>"
      ]
     },
     "metadata": {},
     "output_type": "display_data"
    }
   ],
   "source": [
    "results2 = qp2.execute(\"SimError9\", shots=100)\n",
    "plot_histogram(results2.get_counts(\"SimError9\"))"
   ]
  },
  {
   "cell_type": "markdown",
   "metadata": {},
   "source": [
    "#### as $|\\psi\\rangle = \\frac{1}{\\sqrt{2}}|0\\rangle + \\frac{1}{\\sqrt{2}}|1\\rangle$ this makes sense. There was an induced error that was corrected."
   ]
  },
  {
   "attachments": {},
   "cell_type": "markdown",
   "metadata": {},
   "source": [
    "#### Neither was run on an IBMQ computer as the series of swaps that would have been required to map it to the 16-qubit unit would have been very complicated.\n",
    "\n",
    "<img src=\"img/16_qubits_architecture.png\">"
   ]
  }
 ],
 "metadata": {
  "kernelspec": {
   "display_name": "Python 3",
   "language": "python",
   "name": "python3"
  },
  "language_info": {
   "codemirror_mode": {
    "name": "ipython",
    "version": 3
   },
   "file_extension": ".py",
   "mimetype": "text/x-python",
   "name": "python",
   "nbconvert_exporter": "python",
   "pygments_lexer": "ipython3",
   "version": "3.6.1"
  }
 },
 "nbformat": 4,
 "nbformat_minor": 2
}
